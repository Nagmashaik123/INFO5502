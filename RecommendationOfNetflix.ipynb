{
  "nbformat": 4,
  "nbformat_minor": 0,
  "metadata": {
    "colab": {
      "name": "RecommendationOfNetflix.ipynb",
      "provenance": [],
      "authorship_tag": "ABX9TyMy/UPxBvedstkaOxKGvbKg",
      "include_colab_link": true
    },
    "kernelspec": {
      "name": "python3",
      "display_name": "Python 3"
    },
    "language_info": {
      "name": "python"
    }
  },
  "cells": [
    {
      "cell_type": "markdown",
      "metadata": {
        "id": "view-in-github",
        "colab_type": "text"
      },
      "source": [
        "<a href=\"https://colab.research.google.com/github/Nagmashaik123/INFO5502/blob/master/RecommendationOfNetflix.ipynb\" target=\"_parent\"><img src=\"https://colab.research.google.com/assets/colab-badge.svg\" alt=\"Open In Colab\"/></a>"
      ]
    },
    {
      "cell_type": "code",
      "metadata": {
        "id": "sMFR9FMZRdu3"
      },
      "source": [
        "# Importing libraries numpy, pandas, matplotlib.pyplot and seaborn\n",
        "import numpy as np\n",
        "import pandas as pd\n",
        "import matplotlib.pyplot as plt\n",
        "import seaborn as sns"
      ],
      "execution_count": 136,
      "outputs": []
    },
    {
      "cell_type": "code",
      "metadata": {
        "id": "L3WG1EvzRfxZ"
      },
      "source": [
        "from sklearn.feature_extraction.text import TfidfVectorizer"
      ],
      "execution_count": 137,
      "outputs": []
    },
    {
      "cell_type": "code",
      "metadata": {
        "id": "sF-33UGiRSxr"
      },
      "source": [
        "# Loading the netflix_titles.csv which contains the movies and tv shows details\n",
        "df=pd.read_csv(\"/content/netflix_titles.csv\")"
      ],
      "execution_count": 138,
      "outputs": []
    },
    {
      "cell_type": "code",
      "metadata": {
        "colab": {
          "base_uri": "https://localhost:8080/"
        },
        "id": "QlhHeZmgRPgq",
        "outputId": "864232ac-9ab4-413a-fb88-9c344264578f"
      },
      "source": [
        "# Generating ifidf vectorized words\n",
        "tfidf = TfidfVectorizer(stop_words='english')\n",
        "df['description'] =df['description'].fillna('') # Dropping null values based on description\n",
        "tfidf_matrix = tfidf.fit_transform(df['description'])\n",
        "tfidf_matrix.shape"
      ],
      "execution_count": 139,
      "outputs": [
        {
          "output_type": "execute_result",
          "data": {
            "text/plain": [
              "(8807, 18895)"
            ]
          },
          "metadata": {},
          "execution_count": 139
        }
      ]
    },
    {
      "cell_type": "code",
      "metadata": {
        "id": "EwaGCQ75Rmjt"
      },
      "source": [
        "from sklearn.metrics.pairwise import linear_kernel"
      ],
      "execution_count": 140,
      "outputs": []
    },
    {
      "cell_type": "code",
      "metadata": {
        "id": "uqPsVFqORnVh"
      },
      "source": [
        "#compute cosine similarity of Tfidf vectorized words\n",
        "cosine_sim = linear_kernel(tfidf_matrix, tfidf_matrix)"
      ],
      "execution_count": 141,
      "outputs": []
    },
    {
      "cell_type": "code",
      "metadata": {
        "colab": {
          "base_uri": "https://localhost:8080/"
        },
        "id": "JRR4qVCeRpKj",
        "outputId": "2fb7e048-e1da-4c17-db6b-586bb9a0515e"
      },
      "source": [
        "cosine_sim"
      ],
      "execution_count": 142,
      "outputs": [
        {
          "output_type": "execute_result",
          "data": {
            "text/plain": [
              "array([[1.        , 0.        , 0.        , ..., 0.        , 0.01538292,\n",
              "        0.        ],\n",
              "       [0.        , 1.        , 0.        , ..., 0.        , 0.        ,\n",
              "        0.        ],\n",
              "       [0.        , 0.        , 1.        , ..., 0.        , 0.        ,\n",
              "        0.02230089],\n",
              "       ...,\n",
              "       [0.        , 0.        , 0.        , ..., 1.        , 0.        ,\n",
              "        0.        ],\n",
              "       [0.01538292, 0.        , 0.        , ..., 0.        , 1.        ,\n",
              "        0.        ],\n",
              "       [0.        , 0.        , 0.02230089, ..., 0.        , 0.        ,\n",
              "        1.        ]])"
            ]
          },
          "metadata": {},
          "execution_count": 142
        }
      ]
    },
    {
      "cell_type": "code",
      "metadata": {
        "id": "eaGpCc9dRqQA"
      },
      "source": [
        "# Dropping duplicates with having same title\n",
        "indices = pd.Series(df.index, index=df['title']).drop_duplicates()"
      ],
      "execution_count": 143,
      "outputs": []
    },
    {
      "cell_type": "code",
      "metadata": {
        "id": "4bzKWi3zRttQ"
      },
      "source": [
        "# Creating recommendations functions by passing the computation result of cosine similarity\n",
        "def get_recomendations(title, cosine_sim=cosine_sim):\n",
        "    idx = indices[title]\n",
        "    sim_scores = list(enumerate(cosine_sim[idx]))\n",
        "    sim_scores = sorted(sim_scores, key=lambda x: x[1], reverse= True)\n",
        "    sim_scores = sim_scores[1:11]\n",
        "    movie_indices = [i[0] for i in sim_scores]\n",
        "    return df['title'].iloc[movie_indices]"
      ],
      "execution_count": 144,
      "outputs": []
    },
    {
      "cell_type": "code",
      "metadata": {
        "colab": {
          "base_uri": "https://localhost:8080/"
        },
        "id": "cRAqI7DGRwlW",
        "outputId": "11873153-b3c2-40b0-f33c-77bedbebba81"
      },
      "source": [
        "# Getting similar suggestions for a sample title selcted\n",
        "get_recomendations('Peaky Blinders')"
      ],
      "execution_count": 145,
      "outputs": [
        {
          "output_type": "execute_result",
          "data": {
            "text/plain": [
              "7683                    Our Godfather\n",
              "2646                   My Stupid Boss\n",
              "3133                              Don\n",
              "8293                         The Fear\n",
              "7140    Jonathan Strange & Mr Norrell\n",
              "7785                Power Rangers Zeo\n",
              "8467                       The Prison\n",
              "8539                       The Tudors\n",
              "1510                    The Con Is On\n",
              "8391     The Legend of Michael Mishra\n",
              "Name: title, dtype: object"
            ]
          },
          "metadata": {},
          "execution_count": 145
        }
      ]
    },
    {
      "cell_type": "code",
      "metadata": {
        "colab": {
          "base_uri": "https://localhost:8080/"
        },
        "id": "fp_5SzolRzAl",
        "outputId": "946cda31-484a-47a5-eed2-0a9e8712ca64"
      },
      "source": [
        "get_recomendations('The Spy')"
      ],
      "execution_count": 146,
      "outputs": [
        {
          "output_type": "execute_result",
          "data": {
            "text/plain": [
              "2502        Escaping Tel Aviv\n",
              "373        The Last Mercenary\n",
              "4776               Mossad 101\n",
              "389             The Operative\n",
              "8272             The Departed\n",
              "356                The Losers\n",
              "4069    Beauty and the Bestie\n",
              "6633            Donnie Brasco\n",
              "8217          The Book of Eli\n",
              "3309     Undercover Brother 2\n",
              "Name: title, dtype: object"
            ]
          },
          "metadata": {},
          "execution_count": 146
        }
      ]
    },
    {
      "cell_type": "code",
      "metadata": {
        "colab": {
          "base_uri": "https://localhost:8080/",
          "height": 284
        },
        "id": "jihZqSczRz2N",
        "outputId": "002c49ab-94a5-4427-bdd0-018aad70c6c8"
      },
      "source": [
        "filledna1=df.fillna('')\n",
        "filledna1.head(2)"
      ],
      "execution_count": 147,
      "outputs": [
        {
          "output_type": "execute_result",
          "data": {
            "text/html": [
              "<div>\n",
              "<style scoped>\n",
              "    .dataframe tbody tr th:only-of-type {\n",
              "        vertical-align: middle;\n",
              "    }\n",
              "\n",
              "    .dataframe tbody tr th {\n",
              "        vertical-align: top;\n",
              "    }\n",
              "\n",
              "    .dataframe thead th {\n",
              "        text-align: right;\n",
              "    }\n",
              "</style>\n",
              "<table border=\"1\" class=\"dataframe\">\n",
              "  <thead>\n",
              "    <tr style=\"text-align: right;\">\n",
              "      <th></th>\n",
              "      <th>show_id</th>\n",
              "      <th>type</th>\n",
              "      <th>title</th>\n",
              "      <th>director</th>\n",
              "      <th>cast</th>\n",
              "      <th>country</th>\n",
              "      <th>date_added</th>\n",
              "      <th>release_year</th>\n",
              "      <th>rating</th>\n",
              "      <th>duration</th>\n",
              "      <th>listed_in</th>\n",
              "      <th>description</th>\n",
              "    </tr>\n",
              "  </thead>\n",
              "  <tbody>\n",
              "    <tr>\n",
              "      <th>0</th>\n",
              "      <td>s1</td>\n",
              "      <td>Movie</td>\n",
              "      <td>Dick Johnson Is Dead</td>\n",
              "      <td>Kirsten Johnson</td>\n",
              "      <td></td>\n",
              "      <td>United States</td>\n",
              "      <td>September 25, 2021</td>\n",
              "      <td>2020</td>\n",
              "      <td>PG-13</td>\n",
              "      <td>90 min</td>\n",
              "      <td>Documentaries</td>\n",
              "      <td>As her father nears the end of his life, filmm...</td>\n",
              "    </tr>\n",
              "    <tr>\n",
              "      <th>1</th>\n",
              "      <td>s2</td>\n",
              "      <td>TV Show</td>\n",
              "      <td>Blood &amp; Water</td>\n",
              "      <td></td>\n",
              "      <td>Ama Qamata, Khosi Ngema, Gail Mabalane, Thaban...</td>\n",
              "      <td>South Africa</td>\n",
              "      <td>September 24, 2021</td>\n",
              "      <td>2021</td>\n",
              "      <td>TV-MA</td>\n",
              "      <td>2 Seasons</td>\n",
              "      <td>International TV Shows, TV Dramas, TV Mysteries</td>\n",
              "      <td>After crossing paths at a party, a Cape Town t...</td>\n",
              "    </tr>\n",
              "  </tbody>\n",
              "</table>\n",
              "</div>"
            ],
            "text/plain": [
              "  show_id  ...                                        description\n",
              "0      s1  ...  As her father nears the end of his life, filmm...\n",
              "1      s2  ...  After crossing paths at a party, a Cape Town t...\n",
              "\n",
              "[2 rows x 12 columns]"
            ]
          },
          "metadata": {},
          "execution_count": 147
        }
      ]
    },
    {
      "cell_type": "code",
      "metadata": {
        "id": "fXd0KZWxR3KY"
      },
      "source": [
        "def clean_data(x):\n",
        "    return str.lower(x.replace(\" \",\"\"))"
      ],
      "execution_count": 148,
      "outputs": []
    },
    {
      "cell_type": "code",
      "metadata": {
        "id": "4d8p2ahhR5h4"
      },
      "source": [
        "# Creating features data frame out of title, director, cast,listed_in and description from the data set\n",
        "#identifying features on which the model is to be filtered\n",
        "features=['title','director','cast','listed_in','description']\n",
        "filledna1=filledna1[features]"
      ],
      "execution_count": 149,
      "outputs": []
    },
    {
      "cell_type": "code",
      "metadata": {
        "id": "m3IXqHsAR7Ks"
      },
      "source": [
        "# Cleaning the data frame for each feature\n",
        "for feature in features:\n",
        "    filledna1[feature] = filledna1[feature].apply(clean_data)"
      ],
      "execution_count": 150,
      "outputs": []
    },
    {
      "cell_type": "code",
      "metadata": {
        "colab": {
          "base_uri": "https://localhost:8080/",
          "height": 224
        },
        "id": "ajsKuNMhR86P",
        "outputId": "7af42f45-b641-4404-a121-4263b542b202"
      },
      "source": [
        "# Printing the top 5 rows of the feature data frame\n",
        "filledna1.head()"
      ],
      "execution_count": 151,
      "outputs": [
        {
          "output_type": "execute_result",
          "data": {
            "text/html": [
              "<div>\n",
              "<style scoped>\n",
              "    .dataframe tbody tr th:only-of-type {\n",
              "        vertical-align: middle;\n",
              "    }\n",
              "\n",
              "    .dataframe tbody tr th {\n",
              "        vertical-align: top;\n",
              "    }\n",
              "\n",
              "    .dataframe thead th {\n",
              "        text-align: right;\n",
              "    }\n",
              "</style>\n",
              "<table border=\"1\" class=\"dataframe\">\n",
              "  <thead>\n",
              "    <tr style=\"text-align: right;\">\n",
              "      <th></th>\n",
              "      <th>title</th>\n",
              "      <th>director</th>\n",
              "      <th>cast</th>\n",
              "      <th>listed_in</th>\n",
              "      <th>description</th>\n",
              "    </tr>\n",
              "  </thead>\n",
              "  <tbody>\n",
              "    <tr>\n",
              "      <th>0</th>\n",
              "      <td>dickjohnsonisdead</td>\n",
              "      <td>kirstenjohnson</td>\n",
              "      <td></td>\n",
              "      <td>documentaries</td>\n",
              "      <td>asherfathernearstheendofhislife,filmmakerkirst...</td>\n",
              "    </tr>\n",
              "    <tr>\n",
              "      <th>1</th>\n",
              "      <td>blood&amp;water</td>\n",
              "      <td></td>\n",
              "      <td>amaqamata,khosingema,gailmabalane,thabangmolab...</td>\n",
              "      <td>internationaltvshows,tvdramas,tvmysteries</td>\n",
              "      <td>aftercrossingpathsataparty,acapetownteensetsou...</td>\n",
              "    </tr>\n",
              "    <tr>\n",
              "      <th>2</th>\n",
              "      <td>ganglands</td>\n",
              "      <td>julienleclercq</td>\n",
              "      <td>samibouajila,tracygotoas,samueljouy,nabihaakka...</td>\n",
              "      <td>crimetvshows,internationaltvshows,tvaction&amp;adv...</td>\n",
              "      <td>toprotecthisfamilyfromapowerfuldruglord,skille...</td>\n",
              "    </tr>\n",
              "    <tr>\n",
              "      <th>3</th>\n",
              "      <td>jailbirdsneworleans</td>\n",
              "      <td></td>\n",
              "      <td></td>\n",
              "      <td>docuseries,realitytv</td>\n",
              "      <td>feuds,flirtationsandtoilettalkgodownamongthein...</td>\n",
              "    </tr>\n",
              "    <tr>\n",
              "      <th>4</th>\n",
              "      <td>kotafactory</td>\n",
              "      <td></td>\n",
              "      <td>mayurmore,jitendrakumar,ranjanraj,alamkhan,ahs...</td>\n",
              "      <td>internationaltvshows,romantictvshows,tvcomedies</td>\n",
              "      <td>inacityofcoachingcentersknowntotrainindia’sfin...</td>\n",
              "    </tr>\n",
              "  </tbody>\n",
              "</table>\n",
              "</div>"
            ],
            "text/plain": [
              "                 title  ...                                        description\n",
              "0    dickjohnsonisdead  ...  asherfathernearstheendofhislife,filmmakerkirst...\n",
              "1          blood&water  ...  aftercrossingpathsataparty,acapetownteensetsou...\n",
              "2            ganglands  ...  toprotecthisfamilyfromapowerfuldruglord,skille...\n",
              "3  jailbirdsneworleans  ...  feuds,flirtationsandtoilettalkgodownamongthein...\n",
              "4          kotafactory  ...  inacityofcoachingcentersknowntotrainindia’sfin...\n",
              "\n",
              "[5 rows x 5 columns]"
            ]
          },
          "metadata": {},
          "execution_count": 151
        }
      ]
    },
    {
      "cell_type": "code",
      "metadata": {
        "id": "LJQHmz-XR_Ge"
      },
      "source": [
        "#creating soup or bag of words for all rows\n",
        "def create_soup(x):\n",
        "    return x['title']+ ' ' + x['director']+ ' ' + x['cast']+ ' ' + x['listed_in']+ ' ' + x['description']"
      ],
      "execution_count": 152,
      "outputs": []
    },
    {
      "cell_type": "code",
      "metadata": {
        "id": "pljTTw5USBWb"
      },
      "source": [
        "filledna1['soup'] = filledna1.apply(create_soup, axis=1)"
      ],
      "execution_count": 153,
      "outputs": []
    },
    {
      "cell_type": "code",
      "metadata": {
        "colab": {
          "base_uri": "https://localhost:8080/"
        },
        "id": "Q7jYY3lZSDU9",
        "outputId": "25724a57-f87a-4f24-af3c-7cdf7dc58df8"
      },
      "source": [
        "filledna1['soup']"
      ],
      "execution_count": 154,
      "outputs": [
        {
          "output_type": "execute_result",
          "data": {
            "text/plain": [
              "0       dickjohnsonisdead kirstenjohnson  documentarie...\n",
              "1       blood&water  amaqamata,khosingema,gailmabalane...\n",
              "2       ganglands julienleclercq samibouajila,tracygot...\n",
              "3       jailbirdsneworleans   docuseries,realitytv feu...\n",
              "4       kotafactory  mayurmore,jitendrakumar,ranjanraj...\n",
              "                              ...                        \n",
              "8802    zodiac davidfincher markruffalo,jakegyllenhaal...\n",
              "8803    zombiedumb   kids'tv,koreantvshows,tvcomedies ...\n",
              "8804    zombieland rubenfleischer jesseeisenberg,woody...\n",
              "8805    zoom peterhewitt timallen,courteneycox,chevych...\n",
              "8806    zubaan mozezsingh vickykaushal,sarah-janedias,...\n",
              "Name: soup, Length: 8807, dtype: object"
            ]
          },
          "metadata": {},
          "execution_count": 154
        }
      ]
    },
    {
      "cell_type": "code",
      "metadata": {
        "id": "kt01L3TuSGYS"
      },
      "source": [
        "from sklearn.feature_extraction.text import CountVectorizer"
      ],
      "execution_count": 155,
      "outputs": []
    },
    {
      "cell_type": "code",
      "metadata": {
        "id": "eMBHu2uQSHQ6"
      },
      "source": [
        "from sklearn.metrics.pairwise import cosine_similarity"
      ],
      "execution_count": 156,
      "outputs": []
    },
    {
      "cell_type": "code",
      "metadata": {
        "id": "JMYSj3xESI3t"
      },
      "source": [
        "count = CountVectorizer(stop_words='english')\n",
        "count_matrix = count.fit_transform(filledna1['soup'])\n",
        "cosine_sim2 = cosine_similarity(count_matrix, count_matrix)"
      ],
      "execution_count": 157,
      "outputs": []
    },
    {
      "cell_type": "code",
      "metadata": {
        "colab": {
          "base_uri": "https://localhost:8080/"
        },
        "id": "WZNWPzWoSKjx",
        "outputId": "0aeca4bd-a0f6-41d7-a412-6c1717d1a13c"
      },
      "source": [
        "count_matrix"
      ],
      "execution_count": 158,
      "outputs": [
        {
          "output_type": "execute_result",
          "data": {
            "text/plain": [
              "<8807x76189 sparse matrix of type '<class 'numpy.int64'>'\n",
              "\twith 135165 stored elements in Compressed Sparse Row format>"
            ]
          },
          "metadata": {},
          "execution_count": 158
        }
      ]
    },
    {
      "cell_type": "code",
      "metadata": {
        "id": "Cy_ayXYXSMRi"
      },
      "source": [
        "filledna1=filledna1.reset_index()\n",
        "indices = pd.Series(filledna1.index, index=filledna1['title'])"
      ],
      "execution_count": 159,
      "outputs": []
    },
    {
      "cell_type": "code",
      "metadata": {
        "id": "oVWNrPrPSOj2"
      },
      "source": [
        "#content based filtering on multiple metrics\n",
        "#content based filtering on factors Title, Cast, Director, Listed in, Plot\n",
        "def get_recomendations_multiple(title, cosine_sim=cosine_sim):\n",
        "    title=title.replace(' ','').lower()\n",
        "    idx = indices[title]\n",
        "    sim_scores = list(enumerate(cosine_sim[idx]))\n",
        "    sim_scores = sorted(sim_scores, key=lambda x: x[1], reverse=True)\n",
        "    sim_scores = sim_scores[1:11]\n",
        "    movie_indices = [i[0] for i in sim_scores]\n",
        "    return df['title'].iloc[movie_indices]"
      ],
      "execution_count": 160,
      "outputs": []
    },
    {
      "cell_type": "code",
      "metadata": {
        "colab": {
          "base_uri": "https://localhost:8080/"
        },
        "id": "8tx4kvbqSQdb",
        "outputId": "ea1130fc-d868-4d06-e479-b95ffc10dce1"
      },
      "source": [
        "get_recomendations_multiple('PK', cosine_sim2)"
      ],
      "execution_count": 161,
      "outputs": [
        {
          "output_type": "execute_result",
          "data": {
            "text/plain": [
              "1114                           3 Idiots\n",
              "8391       The Legend of Michael Mishra\n",
              "4790                  Anthony Kaun Hai?\n",
              "6907                             Haapus\n",
              "1022                   Taare Zameen Par\n",
              "4507                              Sanju\n",
              "2720                            Dostana\n",
              "4427                    Chance Pe Dance\n",
              "6439                    Chal Dhar Pakad\n",
              "195     EMI: Liya Hai To Chukana Padega\n",
              "Name: title, dtype: object"
            ]
          },
          "metadata": {},
          "execution_count": 161
        }
      ]
    },
    {
      "cell_type": "code",
      "metadata": {
        "colab": {
          "base_uri": "https://localhost:8080/"
        },
        "id": "pCM4SWUeSSY-",
        "outputId": "1fde9ec9-2a93-4f3b-b078-607c2c12ed02"
      },
      "source": [
        "get_recomendations_multiple('Peaky Blinders', cosine_sim2)"
      ],
      "execution_count": 162,
      "outputs": [
        {
          "output_type": "execute_result",
          "data": {
            "text/plain": [
              "3034                    Giri / Haji\n",
              "5032    The Frankenstein Chronicles\n",
              "8431          The Murder Detectives\n",
              "4951                         Loaded\n",
              "4809                  Kiss Me First\n",
              "6922                   Happy Valley\n",
              "2184                       Get Even\n",
              "519                   I AM A KILLER\n",
              "3789                 Killer Ratings\n",
              "4476          Terrorism Close Calls\n",
              "Name: title, dtype: object"
            ]
          },
          "metadata": {},
          "execution_count": 162
        }
      ]
    },
    {
      "cell_type": "code",
      "metadata": {
        "colab": {
          "base_uri": "https://localhost:8080/"
        },
        "id": "gevyIIesSUg9",
        "outputId": "8adcc90f-84d8-4419-e5dd-c382fd76bcfd"
      },
      "source": [
        "get_recomendations_multiple('Giri / Haji', cosine_sim2)"
      ],
      "execution_count": 163,
      "outputs": [
        {
          "output_type": "execute_result",
          "data": {
            "text/plain": [
              "5032                   The Frankenstein Chronicles\n",
              "4809                                 Kiss Me First\n",
              "2184                                      Get Even\n",
              "519                                  I AM A KILLER\n",
              "3789                                Killer Ratings\n",
              "4476                         Terrorism Close Calls\n",
              "4673                      Inside the Criminal Mind\n",
              "7017    How to Live Mortgage Free with Sarah Beeny\n",
              "3452                                Peaky Blinders\n",
              "6971                                    Hinterland\n",
              "Name: title, dtype: object"
            ]
          },
          "metadata": {},
          "execution_count": 163
        }
      ]
    },
    {
      "cell_type": "code",
      "metadata": {
        "colab": {
          "base_uri": "https://localhost:8080/",
          "height": 297
        },
        "id": "WxMZ04wRSXgx",
        "outputId": "b297fffb-8503-4355-baa6-b4bb0fd4f0b4"
      },
      "source": [
        "df.describe()"
      ],
      "execution_count": 164,
      "outputs": [
        {
          "output_type": "execute_result",
          "data": {
            "text/html": [
              "<div>\n",
              "<style scoped>\n",
              "    .dataframe tbody tr th:only-of-type {\n",
              "        vertical-align: middle;\n",
              "    }\n",
              "\n",
              "    .dataframe tbody tr th {\n",
              "        vertical-align: top;\n",
              "    }\n",
              "\n",
              "    .dataframe thead th {\n",
              "        text-align: right;\n",
              "    }\n",
              "</style>\n",
              "<table border=\"1\" class=\"dataframe\">\n",
              "  <thead>\n",
              "    <tr style=\"text-align: right;\">\n",
              "      <th></th>\n",
              "      <th>release_year</th>\n",
              "    </tr>\n",
              "  </thead>\n",
              "  <tbody>\n",
              "    <tr>\n",
              "      <th>count</th>\n",
              "      <td>8807.000000</td>\n",
              "    </tr>\n",
              "    <tr>\n",
              "      <th>mean</th>\n",
              "      <td>2014.180198</td>\n",
              "    </tr>\n",
              "    <tr>\n",
              "      <th>std</th>\n",
              "      <td>8.819312</td>\n",
              "    </tr>\n",
              "    <tr>\n",
              "      <th>min</th>\n",
              "      <td>1925.000000</td>\n",
              "    </tr>\n",
              "    <tr>\n",
              "      <th>25%</th>\n",
              "      <td>2013.000000</td>\n",
              "    </tr>\n",
              "    <tr>\n",
              "      <th>50%</th>\n",
              "      <td>2017.000000</td>\n",
              "    </tr>\n",
              "    <tr>\n",
              "      <th>75%</th>\n",
              "      <td>2019.000000</td>\n",
              "    </tr>\n",
              "    <tr>\n",
              "      <th>max</th>\n",
              "      <td>2021.000000</td>\n",
              "    </tr>\n",
              "  </tbody>\n",
              "</table>\n",
              "</div>"
            ],
            "text/plain": [
              "       release_year\n",
              "count   8807.000000\n",
              "mean    2014.180198\n",
              "std        8.819312\n",
              "min     1925.000000\n",
              "25%     2013.000000\n",
              "50%     2017.000000\n",
              "75%     2019.000000\n",
              "max     2021.000000"
            ]
          },
          "metadata": {},
          "execution_count": 164
        }
      ]
    },
    {
      "cell_type": "code",
      "metadata": {
        "colab": {
          "base_uri": "https://localhost:8080/"
        },
        "id": "PhLzmd1CSZh6",
        "outputId": "34bff526-e4ce-46d4-f592-b32f6b30b33d"
      },
      "source": [
        "df.info()"
      ],
      "execution_count": 165,
      "outputs": [
        {
          "output_type": "stream",
          "name": "stdout",
          "text": [
            "<class 'pandas.core.frame.DataFrame'>\n",
            "RangeIndex: 8807 entries, 0 to 8806\n",
            "Data columns (total 12 columns):\n",
            " #   Column        Non-Null Count  Dtype \n",
            "---  ------        --------------  ----- \n",
            " 0   show_id       8807 non-null   object\n",
            " 1   type          8807 non-null   object\n",
            " 2   title         8807 non-null   object\n",
            " 3   director      6173 non-null   object\n",
            " 4   cast          7982 non-null   object\n",
            " 5   country       7976 non-null   object\n",
            " 6   date_added    8797 non-null   object\n",
            " 7   release_year  8807 non-null   int64 \n",
            " 8   rating        8803 non-null   object\n",
            " 9   duration      8804 non-null   object\n",
            " 10  listed_in     8807 non-null   object\n",
            " 11  description   8807 non-null   object\n",
            "dtypes: int64(1), object(11)\n",
            "memory usage: 825.8+ KB\n"
          ]
        }
      ]
    },
    {
      "cell_type": "code",
      "metadata": {
        "colab": {
          "base_uri": "https://localhost:8080/"
        },
        "id": "ndakFHmJTiMs",
        "outputId": "39629fd8-eb1a-4fa3-b468-a29d78eeb931"
      },
      "source": [
        "df['cast']"
      ],
      "execution_count": 166,
      "outputs": [
        {
          "output_type": "execute_result",
          "data": {
            "text/plain": [
              "0                                                     NaN\n",
              "1       Ama Qamata, Khosi Ngema, Gail Mabalane, Thaban...\n",
              "2       Sami Bouajila, Tracy Gotoas, Samuel Jouy, Nabi...\n",
              "3                                                     NaN\n",
              "4       Mayur More, Jitendra Kumar, Ranjan Raj, Alam K...\n",
              "                              ...                        \n",
              "8802    Mark Ruffalo, Jake Gyllenhaal, Robert Downey J...\n",
              "8803                                                  NaN\n",
              "8804    Jesse Eisenberg, Woody Harrelson, Emma Stone, ...\n",
              "8805    Tim Allen, Courteney Cox, Chevy Chase, Kate Ma...\n",
              "8806    Vicky Kaushal, Sarah-Jane Dias, Raaghav Chanan...\n",
              "Name: cast, Length: 8807, dtype: object"
            ]
          },
          "metadata": {},
          "execution_count": 166
        }
      ]
    },
    {
      "cell_type": "code",
      "metadata": {
        "id": "J2f2gkoITsht"
      },
      "source": [
        "def get_recomendations_cast(cast, cosine_sim=cosine_sim):\n",
        "    cast=cast.replace(' ','').lower()\n",
        "    \n",
        "    idx1 = indices1[cast]\n",
        "    sim_scores = list(enumerate(cosine_sim[idx1]))\n",
        "    sim_scores = sorted(sim_scores, key=lambda x: x[1], reverse=True)\n",
        "    sim_scores = sim_scores[1:11]\n",
        "    movie_cast = [i[0] for i in sim_scores]\n",
        "    return df['title'].iloc[movie_cast]"
      ],
      "execution_count": 167,
      "outputs": []
    },
    {
      "cell_type": "code",
      "metadata": {
        "colab": {
          "base_uri": "https://localhost:8080/"
        },
        "id": "nF2xYwTNTuYP",
        "outputId": "680d9ef4-fffa-47c0-a009-1f81aeb5f264"
      },
      "source": [
        "get_recomendations_cast('Alan Marriott, Andrew Toth, Brian Dobson, Cole Howard, Jennifer Cameron, Jonathan Holmes, Lee Tockar, Lisa Durupt, Maya Kay, Michael Dobson',cosine_sim2)"
      ],
      "execution_count": 168,
      "outputs": [
        {
          "output_type": "execute_result",
          "data": {
            "text/plain": [
              "7595    Norm of the North: Keys to the Kingdom\n",
              "7594        Norm of the North: Family Vacation\n",
              "1005        Keymon and Nani in Space Adventure\n",
              "7317       Little Singham aur Kaal ka Mahajaal\n",
              "7319                  Little Singham in London\n",
              "937               Motu Patlu in Dragon's World\n",
              "938            Motu Patlu in the Game of Zones\n",
              "1006                  Motu Patlu Dino Invasion\n",
              "2236       Little Singham: Legend of Dugabakka\n",
              "3390           Little Singham: Kaal Ki Tabaahi\n",
              "Name: title, dtype: object"
            ]
          },
          "metadata": {},
          "execution_count": 168
        }
      ]
    },
    {
      "cell_type": "code",
      "metadata": {
        "colab": {
          "base_uri": "https://localhost:8080/"
        },
        "id": "zY2c4COnTwxR",
        "outputId": "a15bc88d-ad3b-4dda-d844-26707cf962ac"
      },
      "source": [
        "get_recomendations_multiple('Norm of the North: King Sized Adventure', cosine_sim2)"
      ],
      "execution_count": 169,
      "outputs": [
        {
          "output_type": "execute_result",
          "data": {
            "text/plain": [
              "7595    Norm of the North: Keys to the Kingdom\n",
              "7594        Norm of the North: Family Vacation\n",
              "1005        Keymon and Nani in Space Adventure\n",
              "7317       Little Singham aur Kaal ka Mahajaal\n",
              "7319                  Little Singham in London\n",
              "937               Motu Patlu in Dragon's World\n",
              "938            Motu Patlu in the Game of Zones\n",
              "1006                  Motu Patlu Dino Invasion\n",
              "2236       Little Singham: Legend of Dugabakka\n",
              "3390           Little Singham: Kaal Ki Tabaahi\n",
              "Name: title, dtype: object"
            ]
          },
          "metadata": {},
          "execution_count": 169
        }
      ]
    },
    {
      "cell_type": "code",
      "metadata": {
        "id": "SjmPYpmjTxug"
      },
      "source": [
        "df_split=df['cast'].str.replace(',',\"\").str.split(' ')"
      ],
      "execution_count": 170,
      "outputs": []
    },
    {
      "cell_type": "code",
      "metadata": {
        "colab": {
          "base_uri": "https://localhost:8080/"
        },
        "id": "_hWQ0ZrqTzm9",
        "outputId": "8a0c902b-e9b3-43b7-f78c-ee13be651c40"
      },
      "source": [
        "df['cast']"
      ],
      "execution_count": 171,
      "outputs": [
        {
          "output_type": "execute_result",
          "data": {
            "text/plain": [
              "0                                                     NaN\n",
              "1       Ama Qamata, Khosi Ngema, Gail Mabalane, Thaban...\n",
              "2       Sami Bouajila, Tracy Gotoas, Samuel Jouy, Nabi...\n",
              "3                                                     NaN\n",
              "4       Mayur More, Jitendra Kumar, Ranjan Raj, Alam K...\n",
              "                              ...                        \n",
              "8802    Mark Ruffalo, Jake Gyllenhaal, Robert Downey J...\n",
              "8803                                                  NaN\n",
              "8804    Jesse Eisenberg, Woody Harrelson, Emma Stone, ...\n",
              "8805    Tim Allen, Courteney Cox, Chevy Chase, Kate Ma...\n",
              "8806    Vicky Kaushal, Sarah-Jane Dias, Raaghav Chanan...\n",
              "Name: cast, Length: 8807, dtype: object"
            ]
          },
          "metadata": {},
          "execution_count": 171
        }
      ]
    },
    {
      "cell_type": "code",
      "metadata": {
        "id": "vHWyxeWnT1q-"
      },
      "source": [
        "df['split_cast']=df_split "
      ],
      "execution_count": 172,
      "outputs": []
    },
    {
      "cell_type": "code",
      "metadata": {
        "colab": {
          "base_uri": "https://localhost:8080/",
          "height": 632
        },
        "id": "yOqv6j_xT49W",
        "outputId": "4a480248-8554-4782-cca1-558c4b68ccc5"
      },
      "source": [
        "df.head()"
      ],
      "execution_count": 173,
      "outputs": [
        {
          "output_type": "execute_result",
          "data": {
            "text/html": [
              "<div>\n",
              "<style scoped>\n",
              "    .dataframe tbody tr th:only-of-type {\n",
              "        vertical-align: middle;\n",
              "    }\n",
              "\n",
              "    .dataframe tbody tr th {\n",
              "        vertical-align: top;\n",
              "    }\n",
              "\n",
              "    .dataframe thead th {\n",
              "        text-align: right;\n",
              "    }\n",
              "</style>\n",
              "<table border=\"1\" class=\"dataframe\">\n",
              "  <thead>\n",
              "    <tr style=\"text-align: right;\">\n",
              "      <th></th>\n",
              "      <th>show_id</th>\n",
              "      <th>type</th>\n",
              "      <th>title</th>\n",
              "      <th>director</th>\n",
              "      <th>cast</th>\n",
              "      <th>country</th>\n",
              "      <th>date_added</th>\n",
              "      <th>release_year</th>\n",
              "      <th>rating</th>\n",
              "      <th>duration</th>\n",
              "      <th>listed_in</th>\n",
              "      <th>description</th>\n",
              "      <th>split_cast</th>\n",
              "    </tr>\n",
              "  </thead>\n",
              "  <tbody>\n",
              "    <tr>\n",
              "      <th>0</th>\n",
              "      <td>s1</td>\n",
              "      <td>Movie</td>\n",
              "      <td>Dick Johnson Is Dead</td>\n",
              "      <td>Kirsten Johnson</td>\n",
              "      <td>NaN</td>\n",
              "      <td>United States</td>\n",
              "      <td>September 25, 2021</td>\n",
              "      <td>2020</td>\n",
              "      <td>PG-13</td>\n",
              "      <td>90 min</td>\n",
              "      <td>Documentaries</td>\n",
              "      <td>As her father nears the end of his life, filmm...</td>\n",
              "      <td>NaN</td>\n",
              "    </tr>\n",
              "    <tr>\n",
              "      <th>1</th>\n",
              "      <td>s2</td>\n",
              "      <td>TV Show</td>\n",
              "      <td>Blood &amp; Water</td>\n",
              "      <td>NaN</td>\n",
              "      <td>Ama Qamata, Khosi Ngema, Gail Mabalane, Thaban...</td>\n",
              "      <td>South Africa</td>\n",
              "      <td>September 24, 2021</td>\n",
              "      <td>2021</td>\n",
              "      <td>TV-MA</td>\n",
              "      <td>2 Seasons</td>\n",
              "      <td>International TV Shows, TV Dramas, TV Mysteries</td>\n",
              "      <td>After crossing paths at a party, a Cape Town t...</td>\n",
              "      <td>[Ama, Qamata, Khosi, Ngema, Gail, Mabalane, Th...</td>\n",
              "    </tr>\n",
              "    <tr>\n",
              "      <th>2</th>\n",
              "      <td>s3</td>\n",
              "      <td>TV Show</td>\n",
              "      <td>Ganglands</td>\n",
              "      <td>Julien Leclercq</td>\n",
              "      <td>Sami Bouajila, Tracy Gotoas, Samuel Jouy, Nabi...</td>\n",
              "      <td>NaN</td>\n",
              "      <td>September 24, 2021</td>\n",
              "      <td>2021</td>\n",
              "      <td>TV-MA</td>\n",
              "      <td>1 Season</td>\n",
              "      <td>Crime TV Shows, International TV Shows, TV Act...</td>\n",
              "      <td>To protect his family from a powerful drug lor...</td>\n",
              "      <td>[Sami, Bouajila, Tracy, Gotoas, Samuel, Jouy, ...</td>\n",
              "    </tr>\n",
              "    <tr>\n",
              "      <th>3</th>\n",
              "      <td>s4</td>\n",
              "      <td>TV Show</td>\n",
              "      <td>Jailbirds New Orleans</td>\n",
              "      <td>NaN</td>\n",
              "      <td>NaN</td>\n",
              "      <td>NaN</td>\n",
              "      <td>September 24, 2021</td>\n",
              "      <td>2021</td>\n",
              "      <td>TV-MA</td>\n",
              "      <td>1 Season</td>\n",
              "      <td>Docuseries, Reality TV</td>\n",
              "      <td>Feuds, flirtations and toilet talk go down amo...</td>\n",
              "      <td>NaN</td>\n",
              "    </tr>\n",
              "    <tr>\n",
              "      <th>4</th>\n",
              "      <td>s5</td>\n",
              "      <td>TV Show</td>\n",
              "      <td>Kota Factory</td>\n",
              "      <td>NaN</td>\n",
              "      <td>Mayur More, Jitendra Kumar, Ranjan Raj, Alam K...</td>\n",
              "      <td>India</td>\n",
              "      <td>September 24, 2021</td>\n",
              "      <td>2021</td>\n",
              "      <td>TV-MA</td>\n",
              "      <td>2 Seasons</td>\n",
              "      <td>International TV Shows, Romantic TV Shows, TV ...</td>\n",
              "      <td>In a city of coaching centers known to train I...</td>\n",
              "      <td>[Mayur, More, Jitendra, Kumar, Ranjan, Raj, Al...</td>\n",
              "    </tr>\n",
              "  </tbody>\n",
              "</table>\n",
              "</div>"
            ],
            "text/plain": [
              "  show_id  ...                                         split_cast\n",
              "0      s1  ...                                                NaN\n",
              "1      s2  ...  [Ama, Qamata, Khosi, Ngema, Gail, Mabalane, Th...\n",
              "2      s3  ...  [Sami, Bouajila, Tracy, Gotoas, Samuel, Jouy, ...\n",
              "3      s4  ...                                                NaN\n",
              "4      s5  ...  [Mayur, More, Jitendra, Kumar, Ranjan, Raj, Al...\n",
              "\n",
              "[5 rows x 13 columns]"
            ]
          },
          "metadata": {},
          "execution_count": 173
        }
      ]
    },
    {
      "cell_type": "code",
      "metadata": {
        "id": "XUKaTcQOUd_D"
      },
      "source": [
        "fillednac=df.fillna('')"
      ],
      "execution_count": 174,
      "outputs": []
    },
    {
      "cell_type": "code",
      "metadata": {
        "colab": {
          "base_uri": "https://localhost:8080/",
          "height": 632
        },
        "id": "4wniHyTuUf-p",
        "outputId": "8c572d49-2041-4e85-a8a3-424d6d1b93e4"
      },
      "source": [
        "fillednac.head()"
      ],
      "execution_count": 175,
      "outputs": [
        {
          "output_type": "execute_result",
          "data": {
            "text/html": [
              "<div>\n",
              "<style scoped>\n",
              "    .dataframe tbody tr th:only-of-type {\n",
              "        vertical-align: middle;\n",
              "    }\n",
              "\n",
              "    .dataframe tbody tr th {\n",
              "        vertical-align: top;\n",
              "    }\n",
              "\n",
              "    .dataframe thead th {\n",
              "        text-align: right;\n",
              "    }\n",
              "</style>\n",
              "<table border=\"1\" class=\"dataframe\">\n",
              "  <thead>\n",
              "    <tr style=\"text-align: right;\">\n",
              "      <th></th>\n",
              "      <th>show_id</th>\n",
              "      <th>type</th>\n",
              "      <th>title</th>\n",
              "      <th>director</th>\n",
              "      <th>cast</th>\n",
              "      <th>country</th>\n",
              "      <th>date_added</th>\n",
              "      <th>release_year</th>\n",
              "      <th>rating</th>\n",
              "      <th>duration</th>\n",
              "      <th>listed_in</th>\n",
              "      <th>description</th>\n",
              "      <th>split_cast</th>\n",
              "    </tr>\n",
              "  </thead>\n",
              "  <tbody>\n",
              "    <tr>\n",
              "      <th>0</th>\n",
              "      <td>s1</td>\n",
              "      <td>Movie</td>\n",
              "      <td>Dick Johnson Is Dead</td>\n",
              "      <td>Kirsten Johnson</td>\n",
              "      <td></td>\n",
              "      <td>United States</td>\n",
              "      <td>September 25, 2021</td>\n",
              "      <td>2020</td>\n",
              "      <td>PG-13</td>\n",
              "      <td>90 min</td>\n",
              "      <td>Documentaries</td>\n",
              "      <td>As her father nears the end of his life, filmm...</td>\n",
              "      <td></td>\n",
              "    </tr>\n",
              "    <tr>\n",
              "      <th>1</th>\n",
              "      <td>s2</td>\n",
              "      <td>TV Show</td>\n",
              "      <td>Blood &amp; Water</td>\n",
              "      <td></td>\n",
              "      <td>Ama Qamata, Khosi Ngema, Gail Mabalane, Thaban...</td>\n",
              "      <td>South Africa</td>\n",
              "      <td>September 24, 2021</td>\n",
              "      <td>2021</td>\n",
              "      <td>TV-MA</td>\n",
              "      <td>2 Seasons</td>\n",
              "      <td>International TV Shows, TV Dramas, TV Mysteries</td>\n",
              "      <td>After crossing paths at a party, a Cape Town t...</td>\n",
              "      <td>[Ama, Qamata, Khosi, Ngema, Gail, Mabalane, Th...</td>\n",
              "    </tr>\n",
              "    <tr>\n",
              "      <th>2</th>\n",
              "      <td>s3</td>\n",
              "      <td>TV Show</td>\n",
              "      <td>Ganglands</td>\n",
              "      <td>Julien Leclercq</td>\n",
              "      <td>Sami Bouajila, Tracy Gotoas, Samuel Jouy, Nabi...</td>\n",
              "      <td></td>\n",
              "      <td>September 24, 2021</td>\n",
              "      <td>2021</td>\n",
              "      <td>TV-MA</td>\n",
              "      <td>1 Season</td>\n",
              "      <td>Crime TV Shows, International TV Shows, TV Act...</td>\n",
              "      <td>To protect his family from a powerful drug lor...</td>\n",
              "      <td>[Sami, Bouajila, Tracy, Gotoas, Samuel, Jouy, ...</td>\n",
              "    </tr>\n",
              "    <tr>\n",
              "      <th>3</th>\n",
              "      <td>s4</td>\n",
              "      <td>TV Show</td>\n",
              "      <td>Jailbirds New Orleans</td>\n",
              "      <td></td>\n",
              "      <td></td>\n",
              "      <td></td>\n",
              "      <td>September 24, 2021</td>\n",
              "      <td>2021</td>\n",
              "      <td>TV-MA</td>\n",
              "      <td>1 Season</td>\n",
              "      <td>Docuseries, Reality TV</td>\n",
              "      <td>Feuds, flirtations and toilet talk go down amo...</td>\n",
              "      <td></td>\n",
              "    </tr>\n",
              "    <tr>\n",
              "      <th>4</th>\n",
              "      <td>s5</td>\n",
              "      <td>TV Show</td>\n",
              "      <td>Kota Factory</td>\n",
              "      <td></td>\n",
              "      <td>Mayur More, Jitendra Kumar, Ranjan Raj, Alam K...</td>\n",
              "      <td>India</td>\n",
              "      <td>September 24, 2021</td>\n",
              "      <td>2021</td>\n",
              "      <td>TV-MA</td>\n",
              "      <td>2 Seasons</td>\n",
              "      <td>International TV Shows, Romantic TV Shows, TV ...</td>\n",
              "      <td>In a city of coaching centers known to train I...</td>\n",
              "      <td>[Mayur, More, Jitendra, Kumar, Ranjan, Raj, Al...</td>\n",
              "    </tr>\n",
              "  </tbody>\n",
              "</table>\n",
              "</div>"
            ],
            "text/plain": [
              "  show_id  ...                                         split_cast\n",
              "0      s1  ...                                                   \n",
              "1      s2  ...  [Ama, Qamata, Khosi, Ngema, Gail, Mabalane, Th...\n",
              "2      s3  ...  [Sami, Bouajila, Tracy, Gotoas, Samuel, Jouy, ...\n",
              "3      s4  ...                                                   \n",
              "4      s5  ...  [Mayur, More, Jitendra, Kumar, Ranjan, Raj, Al...\n",
              "\n",
              "[5 rows x 13 columns]"
            ]
          },
          "metadata": {},
          "execution_count": 175
        }
      ]
    },
    {
      "cell_type": "code",
      "metadata": {
        "id": "O0z2eo29Uh6H"
      },
      "source": [
        "def clean_data(x):\n",
        "    return str.lower(x.replace(\" \",\"\"))"
      ],
      "execution_count": 176,
      "outputs": []
    },
    {
      "cell_type": "code",
      "metadata": {
        "id": "B_ymcfaVUjDt"
      },
      "source": [
        "features=['title','director','cast','listed_in','description']\n",
        "fillednac=fillednac[features]"
      ],
      "execution_count": 177,
      "outputs": []
    },
    {
      "cell_type": "code",
      "metadata": {
        "id": "6Ba5bY-OUk4l"
      },
      "source": [
        "def create_soup(x):\n",
        "    return x['title']+ ' ' + x['director']+ ' ' + x['cast']+ ' ' + x['listed_in']+ ' ' + x['description']"
      ],
      "execution_count": 178,
      "outputs": []
    },
    {
      "cell_type": "code",
      "metadata": {
        "id": "dkqw9WJiUnII"
      },
      "source": [
        "fillednac['soup'] = fillednac.apply(create_soup, axis=1)"
      ],
      "execution_count": 179,
      "outputs": []
    },
    {
      "cell_type": "code",
      "metadata": {
        "colab": {
          "base_uri": "https://localhost:8080/"
        },
        "id": "FpqkVB6yUpCS",
        "outputId": "ad8b44d8-3763-49b1-d131-a415c30451f3"
      },
      "source": [
        "fillednac['soup']"
      ],
      "execution_count": 180,
      "outputs": [
        {
          "output_type": "execute_result",
          "data": {
            "text/plain": [
              "0       Dick Johnson Is Dead Kirsten Johnson  Document...\n",
              "1       Blood & Water  Ama Qamata, Khosi Ngema, Gail M...\n",
              "2       Ganglands Julien Leclercq Sami Bouajila, Tracy...\n",
              "3       Jailbirds New Orleans   Docuseries, Reality TV...\n",
              "4       Kota Factory  Mayur More, Jitendra Kumar, Ranj...\n",
              "                              ...                        \n",
              "8802    Zodiac David Fincher Mark Ruffalo, Jake Gyllen...\n",
              "8803    Zombie Dumb   Kids' TV, Korean TV Shows, TV Co...\n",
              "8804    Zombieland Ruben Fleischer Jesse Eisenberg, Wo...\n",
              "8805    Zoom Peter Hewitt Tim Allen, Courteney Cox, Ch...\n",
              "8806    Zubaan Mozez Singh Vicky Kaushal, Sarah-Jane D...\n",
              "Name: soup, Length: 8807, dtype: object"
            ]
          },
          "metadata": {},
          "execution_count": 180
        }
      ]
    },
    {
      "cell_type": "code",
      "metadata": {
        "id": "ISKgTg1uUqt4"
      },
      "source": [
        "from sklearn.feature_extraction.text import CountVectorizer"
      ],
      "execution_count": 181,
      "outputs": []
    },
    {
      "cell_type": "code",
      "metadata": {
        "id": "s7NZFoezUtEf"
      },
      "source": [
        "from sklearn.metrics.pairwise import cosine_similarity"
      ],
      "execution_count": 182,
      "outputs": []
    },
    {
      "cell_type": "code",
      "metadata": {
        "id": "fZ-oJet4Uu54"
      },
      "source": [
        "count_cast = CountVectorizer(stop_words='english')\n",
        "count_matrix_cast = count_cast.fit_transform(fillednac['soup'])\n",
        "cosine_sim_cast = cosine_similarity(count_matrix_cast, count_matrix_cast)"
      ],
      "execution_count": 183,
      "outputs": []
    },
    {
      "cell_type": "code",
      "metadata": {
        "colab": {
          "base_uri": "https://localhost:8080/"
        },
        "id": "Hd0n04i0Uwwu",
        "outputId": "e8120edb-8f84-4138-9501-5433a2c9e698"
      },
      "source": [
        "count_matrix.shape"
      ],
      "execution_count": 184,
      "outputs": [
        {
          "output_type": "execute_result",
          "data": {
            "text/plain": [
              "(8807, 76189)"
            ]
          },
          "metadata": {},
          "execution_count": 184
        }
      ]
    },
    {
      "cell_type": "code",
      "metadata": {
        "id": "Otqn8WVRUyml"
      },
      "source": [
        "fillednac=fillednac.reset_index()\n",
        "indices_cast = pd.Series(fillednac.index, index=fillednac['cast'])"
      ],
      "execution_count": 185,
      "outputs": []
    },
    {
      "cell_type": "code",
      "metadata": {
        "id": "S-4olPMgU0oZ"
      },
      "source": [
        "def get_recomendations_cast(cast, cosine_sim=cosine_sim):\n",
        "    cast=cast.replace(' ','').lower()\n",
        "    \n",
        "    idx1 = indices1[cast]\n",
        "    sim_scores = list(enumerate(cosine_sim[idx1]))\n",
        "    sim_scores = sorted(sim_scores, key=lambda x: x[1], reverse=True)\n",
        "    sim_scores = sim_scores[1:11]\n",
        "    movie_cast = [i[0] for i in sim_scores]\n",
        "    return df['title'].iloc[movie_cast]"
      ],
      "execution_count": 186,
      "outputs": []
    },
    {
      "cell_type": "code",
      "metadata": {
        "colab": {
          "base_uri": "https://localhost:8080/"
        },
        "id": "TT40--UAU2ks",
        "outputId": "02c66507-8a43-4f74-cd3b-0822c8401165"
      },
      "source": [
        "get_recomendations_cast('Alan Marriott, Andrew Toth, Brian Dobson, Cole Howard, Jennifer Cameron, Jonathan Holmes, Lee Tockar, Lisa Durupt, Maya Kay, Michael Dobson',cosine_sim_cast)"
      ],
      "execution_count": 187,
      "outputs": [
        {
          "output_type": "execute_result",
          "data": {
            "text/plain": [
              "7595    Norm of the North: Keys to the Kingdom\n",
              "7594        Norm of the North: Family Vacation\n",
              "3338                                Holly Star\n",
              "7513                 Motu Patlu: King of Kings\n",
              "3343                                Santa Girl\n",
              "8461                         The Polar Express\n",
              "6242        Barbie: The Princess & the Popstar\n",
              "8581                     Thor: Tales of Asgard\n",
              "344                                  My Girl 2\n",
              "100                    Tobot Galaxy Detectives\n",
              "Name: title, dtype: object"
            ]
          },
          "metadata": {},
          "execution_count": 187
        }
      ]
    }
  ]
}