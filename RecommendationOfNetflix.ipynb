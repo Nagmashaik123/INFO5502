{
  "nbformat": 4,
  "nbformat_minor": 0,
  "metadata": {
    "colab": {
      "name": "RecommendationOfNetflix.ipynb",
      "provenance": [],
      "authorship_tag": "ABX9TyMy/UPxBvedstkaOxKGvbKg",
      "include_colab_link": true
    },
    "kernelspec": {
      "name": "python3",
      "display_name": "Python 3"
    },
    "language_info": {
      "name": "python"
    }
  },
  "cells": [
    {
      "cell_type": "markdown",
      "metadata": {
        "id": "view-in-github",
        "colab_type": "text"
      },
      "source": [
        "<a href=\"https://colab.research.google.com/github/Nagmashaik123/INFO5502/blob/master/RecommendationOfNetflix.ipynb\" target=\"_parent\"><img src=\"https://colab.research.google.com/assets/colab-badge.svg\" alt=\"Open In Colab\"/></a>"
      ]
    },
    {
      "cell_type": "code",
      "metadata": {
        "id": "sMFR9FMZRdu3"
      },
      "source": [
        "# Importing libraries numpy, pandas, matplotlib.pyplot and seaborn\n",
        "import numpy as np\n",
        "import pandas as pd\n",
        "import matplotlib.pyplot as plt\n",
        "import seaborn as sns"
      ],
      "execution_count": 4,
      "outputs": []
    },
    {
      "cell_type": "code",
      "metadata": {
        "id": "L3WG1EvzRfxZ"
      },
      "source": [
        "from sklearn.feature_extraction.text import TfidfVectorizer"
      ],
      "execution_count": 5,
      "outputs": []
    },
    {
      "cell_type": "code",
      "metadata": {
        "id": "sF-33UGiRSxr"
      },
      "source": [
        "# Loading the netflix_titles.csv which contains the movies and tv shows details\n",
        "df=pd.read_csv(\"/content/netflix_titles.csv\")"
      ],
      "execution_count": 6,
      "outputs": []
    },
    {
      "cell_type": "code",
      "metadata": {
        "colab": {
          "base_uri": "https://localhost:8080/"
        },
        "id": "QlhHeZmgRPgq",
        "outputId": "973aac90-f5b9-4082-f4d1-e6db0db3b89d"
      },
      "source": [
        "# Generating ifidf vectorized words\n",
        "tfidf = TfidfVectorizer(stop_words='english')\n",
        "df['description'] =df['description'].fillna('') # Dropping null values based on description\n",
        "tfidf_matrix = tfidf.fit_transform(df['description'])\n",
        "tfidf_matrix.shape"
      ],
      "execution_count": 7,
      "outputs": [
        {
          "output_type": "execute_result",
          "data": {
            "text/plain": [
              "(8807, 18895)"
            ]
          },
          "metadata": {},
          "execution_count": 7
        }
      ]
    },
    {
      "cell_type": "code",
      "metadata": {
        "id": "EwaGCQ75Rmjt"
      },
      "source": [
        "from sklearn.metrics.pairwise import linear_kernel"
      ],
      "execution_count": 8,
      "outputs": []
    },
    {
      "cell_type": "code",
      "metadata": {
        "id": "uqPsVFqORnVh"
      },
      "source": [
        "#compute cosine similarity of Tfidf vectorized words\n",
        "cosine_sim = linear_kernel(tfidf_matrix, tfidf_matrix)"
      ],
      "execution_count": 9,
      "outputs": []
    },
    {
      "cell_type": "code",
      "metadata": {
        "colab": {
          "base_uri": "https://localhost:8080/"
        },
        "id": "JRR4qVCeRpKj",
        "outputId": "8eea5e08-3f4c-43c1-9eeb-057534a0388a"
      },
      "source": [
        "cosine_sim"
      ],
      "execution_count": 10,
      "outputs": [
        {
          "output_type": "execute_result",
          "data": {
            "text/plain": [
              "array([[1.        , 0.        , 0.        , ..., 0.        , 0.01538292,\n",
              "        0.        ],\n",
              "       [0.        , 1.        , 0.        , ..., 0.        , 0.        ,\n",
              "        0.        ],\n",
              "       [0.        , 0.        , 1.        , ..., 0.        , 0.        ,\n",
              "        0.02230089],\n",
              "       ...,\n",
              "       [0.        , 0.        , 0.        , ..., 1.        , 0.        ,\n",
              "        0.        ],\n",
              "       [0.01538292, 0.        , 0.        , ..., 0.        , 1.        ,\n",
              "        0.        ],\n",
              "       [0.        , 0.        , 0.02230089, ..., 0.        , 0.        ,\n",
              "        1.        ]])"
            ]
          },
          "metadata": {},
          "execution_count": 10
        }
      ]
    },
    {
      "cell_type": "code",
      "metadata": {
        "id": "eaGpCc9dRqQA"
      },
      "source": [
        "# Dropping duplicates with having same title\n",
        "indices = pd.Series(df.index, index=df['title']).drop_duplicates()"
      ],
      "execution_count": 11,
      "outputs": []
    },
    {
      "cell_type": "code",
      "metadata": {
        "id": "4bzKWi3zRttQ"
      },
      "source": [
        "# Creating recommendations functions by passing the computation result of cosine similarity\n",
        "def get_recomendations(title, cosine_sim=cosine_sim):\n",
        "    idx = indices[title]\n",
        "    sim_scores = list(enumerate(cosine_sim[idx]))\n",
        "    sim_scores = sorted(sim_scores, key=lambda x: x[1], reverse= True)\n",
        "    sim_scores = sim_scores[1:11]\n",
        "    movie_indices = [i[0] for i in sim_scores]\n",
        "    return df['title'].iloc[movie_indices]"
      ],
      "execution_count": 12,
      "outputs": []
    },
    {
      "cell_type": "code",
      "metadata": {
        "colab": {
          "base_uri": "https://localhost:8080/"
        },
        "id": "cRAqI7DGRwlW",
        "outputId": "59e20110-34f7-44f8-b6e9-f209b5a83169"
      },
      "source": [
        "# Getting similar suggestions for a sample title selcted\n",
        "get_recomendations('Peaky Blinders')"
      ],
      "execution_count": 13,
      "outputs": [
        {
          "output_type": "execute_result",
          "data": {
            "text/plain": [
              "7683                    Our Godfather\n",
              "2646                   My Stupid Boss\n",
              "3133                              Don\n",
              "8293                         The Fear\n",
              "7140    Jonathan Strange & Mr Norrell\n",
              "7785                Power Rangers Zeo\n",
              "8467                       The Prison\n",
              "8539                       The Tudors\n",
              "1510                    The Con Is On\n",
              "8391     The Legend of Michael Mishra\n",
              "Name: title, dtype: object"
            ]
          },
          "metadata": {},
          "execution_count": 13
        }
      ]
    },
    {
      "cell_type": "code",
      "metadata": {
        "colab": {
          "base_uri": "https://localhost:8080/"
        },
        "id": "fp_5SzolRzAl",
        "outputId": "1634a81c-be65-4609-c571-33a6d60ebe4f"
      },
      "source": [
        "get_recomendations('The Spy')"
      ],
      "execution_count": 14,
      "outputs": [
        {
          "output_type": "execute_result",
          "data": {
            "text/plain": [
              "2502        Escaping Tel Aviv\n",
              "373        The Last Mercenary\n",
              "4776               Mossad 101\n",
              "389             The Operative\n",
              "8272             The Departed\n",
              "356                The Losers\n",
              "4069    Beauty and the Bestie\n",
              "6633            Donnie Brasco\n",
              "8217          The Book of Eli\n",
              "3309     Undercover Brother 2\n",
              "Name: title, dtype: object"
            ]
          },
          "metadata": {},
          "execution_count": 14
        }
      ]
    },
    {
      "cell_type": "code",
      "metadata": {
        "colab": {
          "base_uri": "https://localhost:8080/",
          "height": 284
        },
        "id": "jihZqSczRz2N",
        "outputId": "3bea2192-4122-42ba-eaa2-af0ed3590b9f"
      },
      "source": [
        "filledna1=df.fillna('')\n",
        "filledna1.head(2)"
      ],
      "execution_count": 15,
      "outputs": [
        {
          "output_type": "execute_result",
          "data": {
            "text/html": [
              "<div>\n",
              "<style scoped>\n",
              "    .dataframe tbody tr th:only-of-type {\n",
              "        vertical-align: middle;\n",
              "    }\n",
              "\n",
              "    .dataframe tbody tr th {\n",
              "        vertical-align: top;\n",
              "    }\n",
              "\n",
              "    .dataframe thead th {\n",
              "        text-align: right;\n",
              "    }\n",
              "</style>\n",
              "<table border=\"1\" class=\"dataframe\">\n",
              "  <thead>\n",
              "    <tr style=\"text-align: right;\">\n",
              "      <th></th>\n",
              "      <th>show_id</th>\n",
              "      <th>type</th>\n",
              "      <th>title</th>\n",
              "      <th>director</th>\n",
              "      <th>cast</th>\n",
              "      <th>country</th>\n",
              "      <th>date_added</th>\n",
              "      <th>release_year</th>\n",
              "      <th>rating</th>\n",
              "      <th>duration</th>\n",
              "      <th>listed_in</th>\n",
              "      <th>description</th>\n",
              "    </tr>\n",
              "  </thead>\n",
              "  <tbody>\n",
              "    <tr>\n",
              "      <th>0</th>\n",
              "      <td>s1</td>\n",
              "      <td>Movie</td>\n",
              "      <td>Dick Johnson Is Dead</td>\n",
              "      <td>Kirsten Johnson</td>\n",
              "      <td></td>\n",
              "      <td>United States</td>\n",
              "      <td>September 25, 2021</td>\n",
              "      <td>2020</td>\n",
              "      <td>PG-13</td>\n",
              "      <td>90 min</td>\n",
              "      <td>Documentaries</td>\n",
              "      <td>As her father nears the end of his life, filmm...</td>\n",
              "    </tr>\n",
              "    <tr>\n",
              "      <th>1</th>\n",
              "      <td>s2</td>\n",
              "      <td>TV Show</td>\n",
              "      <td>Blood &amp; Water</td>\n",
              "      <td></td>\n",
              "      <td>Ama Qamata, Khosi Ngema, Gail Mabalane, Thaban...</td>\n",
              "      <td>South Africa</td>\n",
              "      <td>September 24, 2021</td>\n",
              "      <td>2021</td>\n",
              "      <td>TV-MA</td>\n",
              "      <td>2 Seasons</td>\n",
              "      <td>International TV Shows, TV Dramas, TV Mysteries</td>\n",
              "      <td>After crossing paths at a party, a Cape Town t...</td>\n",
              "    </tr>\n",
              "  </tbody>\n",
              "</table>\n",
              "</div>"
            ],
            "text/plain": [
              "  show_id  ...                                        description\n",
              "0      s1  ...  As her father nears the end of his life, filmm...\n",
              "1      s2  ...  After crossing paths at a party, a Cape Town t...\n",
              "\n",
              "[2 rows x 12 columns]"
            ]
          },
          "metadata": {},
          "execution_count": 15
        }
      ]
    },
    {
      "cell_type": "code",
      "metadata": {
        "id": "fXd0KZWxR3KY"
      },
      "source": [
        "def clean_data(x):\n",
        "    return str.lower(x.replace(\" \",\"\"))"
      ],
      "execution_count": 16,
      "outputs": []
    },
    {
      "cell_type": "code",
      "metadata": {
        "id": "4d8p2ahhR5h4"
      },
      "source": [
        "# Creating features data frame out of title, director, cast,listed_in and description from the data set\n",
        "#identifying features on which the model is to be filtered\n",
        "features=['title','director','cast','listed_in','description']\n",
        "filledna1=filledna1[features]"
      ],
      "execution_count": 17,
      "outputs": []
    },
    {
      "cell_type": "code",
      "metadata": {
        "id": "m3IXqHsAR7Ks"
      },
      "source": [
        "# Cleaning the data frame for each feature\n",
        "for feature in features:\n",
        "    filledna1[feature] = filledna1[feature].apply(clean_data)"
      ],
      "execution_count": 18,
      "outputs": []
    },
    {
      "cell_type": "code",
      "metadata": {
        "colab": {
          "base_uri": "https://localhost:8080/",
          "height": 224
        },
        "id": "ajsKuNMhR86P",
        "outputId": "cf40484f-4e10-406c-ce0a-8d29005f07c6"
      },
      "source": [
        "# Printing the top 5 rows of the feature data frame\n",
        "filledna1.head()"
      ],
      "execution_count": 19,
      "outputs": [
        {
          "output_type": "execute_result",
          "data": {
            "text/html": [
              "<div>\n",
              "<style scoped>\n",
              "    .dataframe tbody tr th:only-of-type {\n",
              "        vertical-align: middle;\n",
              "    }\n",
              "\n",
              "    .dataframe tbody tr th {\n",
              "        vertical-align: top;\n",
              "    }\n",
              "\n",
              "    .dataframe thead th {\n",
              "        text-align: right;\n",
              "    }\n",
              "</style>\n",
              "<table border=\"1\" class=\"dataframe\">\n",
              "  <thead>\n",
              "    <tr style=\"text-align: right;\">\n",
              "      <th></th>\n",
              "      <th>title</th>\n",
              "      <th>director</th>\n",
              "      <th>cast</th>\n",
              "      <th>listed_in</th>\n",
              "      <th>description</th>\n",
              "    </tr>\n",
              "  </thead>\n",
              "  <tbody>\n",
              "    <tr>\n",
              "      <th>0</th>\n",
              "      <td>dickjohnsonisdead</td>\n",
              "      <td>kirstenjohnson</td>\n",
              "      <td></td>\n",
              "      <td>documentaries</td>\n",
              "      <td>asherfathernearstheendofhislife,filmmakerkirst...</td>\n",
              "    </tr>\n",
              "    <tr>\n",
              "      <th>1</th>\n",
              "      <td>blood&amp;water</td>\n",
              "      <td></td>\n",
              "      <td>amaqamata,khosingema,gailmabalane,thabangmolab...</td>\n",
              "      <td>internationaltvshows,tvdramas,tvmysteries</td>\n",
              "      <td>aftercrossingpathsataparty,acapetownteensetsou...</td>\n",
              "    </tr>\n",
              "    <tr>\n",
              "      <th>2</th>\n",
              "      <td>ganglands</td>\n",
              "      <td>julienleclercq</td>\n",
              "      <td>samibouajila,tracygotoas,samueljouy,nabihaakka...</td>\n",
              "      <td>crimetvshows,internationaltvshows,tvaction&amp;adv...</td>\n",
              "      <td>toprotecthisfamilyfromapowerfuldruglord,skille...</td>\n",
              "    </tr>\n",
              "    <tr>\n",
              "      <th>3</th>\n",
              "      <td>jailbirdsneworleans</td>\n",
              "      <td></td>\n",
              "      <td></td>\n",
              "      <td>docuseries,realitytv</td>\n",
              "      <td>feuds,flirtationsandtoilettalkgodownamongthein...</td>\n",
              "    </tr>\n",
              "    <tr>\n",
              "      <th>4</th>\n",
              "      <td>kotafactory</td>\n",
              "      <td></td>\n",
              "      <td>mayurmore,jitendrakumar,ranjanraj,alamkhan,ahs...</td>\n",
              "      <td>internationaltvshows,romantictvshows,tvcomedies</td>\n",
              "      <td>inacityofcoachingcentersknowntotrainindia’sfin...</td>\n",
              "    </tr>\n",
              "  </tbody>\n",
              "</table>\n",
              "</div>"
            ],
            "text/plain": [
              "                 title  ...                                        description\n",
              "0    dickjohnsonisdead  ...  asherfathernearstheendofhislife,filmmakerkirst...\n",
              "1          blood&water  ...  aftercrossingpathsataparty,acapetownteensetsou...\n",
              "2            ganglands  ...  toprotecthisfamilyfromapowerfuldruglord,skille...\n",
              "3  jailbirdsneworleans  ...  feuds,flirtationsandtoilettalkgodownamongthein...\n",
              "4          kotafactory  ...  inacityofcoachingcentersknowntotrainindia’sfin...\n",
              "\n",
              "[5 rows x 5 columns]"
            ]
          },
          "metadata": {},
          "execution_count": 19
        }
      ]
    },
    {
      "cell_type": "code",
      "metadata": {
        "id": "LJQHmz-XR_Ge"
      },
      "source": [
        "#creating soup or bag of words for all rows\n",
        "def create_soup(x):\n",
        "    return x['title']+ ' ' + x['director']+ ' ' + x['cast']+ ' ' + x['listed_in']+ ' ' + x['description']"
      ],
      "execution_count": 20,
      "outputs": []
    },
    {
      "cell_type": "code",
      "metadata": {
        "id": "pljTTw5USBWb"
      },
      "source": [
        "filledna1['soup'] = filledna1.apply(create_soup, axis=1)"
      ],
      "execution_count": 21,
      "outputs": []
    },
    {
      "cell_type": "code",
      "metadata": {
        "colab": {
          "base_uri": "https://localhost:8080/"
        },
        "id": "Q7jYY3lZSDU9",
        "outputId": "641e46a9-737d-48f8-9238-ed1e9f4f285c"
      },
      "source": [
        "filledna1['soup']"
      ],
      "execution_count": 22,
      "outputs": [
        {
          "output_type": "execute_result",
          "data": {
            "text/plain": [
              "0       dickjohnsonisdead kirstenjohnson  documentarie...\n",
              "1       blood&water  amaqamata,khosingema,gailmabalane...\n",
              "2       ganglands julienleclercq samibouajila,tracygot...\n",
              "3       jailbirdsneworleans   docuseries,realitytv feu...\n",
              "4       kotafactory  mayurmore,jitendrakumar,ranjanraj...\n",
              "                              ...                        \n",
              "8802    zodiac davidfincher markruffalo,jakegyllenhaal...\n",
              "8803    zombiedumb   kids'tv,koreantvshows,tvcomedies ...\n",
              "8804    zombieland rubenfleischer jesseeisenberg,woody...\n",
              "8805    zoom peterhewitt timallen,courteneycox,chevych...\n",
              "8806    zubaan mozezsingh vickykaushal,sarah-janedias,...\n",
              "Name: soup, Length: 8807, dtype: object"
            ]
          },
          "metadata": {},
          "execution_count": 22
        }
      ]
    },
    {
      "cell_type": "code",
      "metadata": {
        "id": "kt01L3TuSGYS"
      },
      "source": [
        "from sklearn.feature_extraction.text import CountVectorizer"
      ],
      "execution_count": 23,
      "outputs": []
    },
    {
      "cell_type": "code",
      "metadata": {
        "id": "eMBHu2uQSHQ6"
      },
      "source": [
        "from sklearn.metrics.pairwise import cosine_similarity"
      ],
      "execution_count": 24,
      "outputs": []
    },
    {
      "cell_type": "code",
      "metadata": {
        "id": "JMYSj3xESI3t"
      },
      "source": [
        "count = CountVectorizer(stop_words='english')\n",
        "count_matrix = count.fit_transform(filledna1['soup'])\n",
        "cosine_sim2 = cosine_similarity(count_matrix, count_matrix)"
      ],
      "execution_count": 25,
      "outputs": []
    },
    {
      "cell_type": "code",
      "metadata": {
        "colab": {
          "base_uri": "https://localhost:8080/"
        },
        "id": "WZNWPzWoSKjx",
        "outputId": "165f4ab0-8c1e-49f1-b758-eefb18359fd9"
      },
      "source": [
        "count_matrix"
      ],
      "execution_count": 26,
      "outputs": [
        {
          "output_type": "execute_result",
          "data": {
            "text/plain": [
              "<8807x76189 sparse matrix of type '<class 'numpy.int64'>'\n",
              "\twith 135165 stored elements in Compressed Sparse Row format>"
            ]
          },
          "metadata": {},
          "execution_count": 26
        }
      ]
    },
    {
      "cell_type": "code",
      "metadata": {
        "id": "Cy_ayXYXSMRi"
      },
      "source": [
        "filledna1=filledna1.reset_index()\n",
        "indices = pd.Series(filledna1.index, index=filledna1['title'])"
      ],
      "execution_count": 27,
      "outputs": []
    },
    {
      "cell_type": "code",
      "metadata": {
        "id": "oVWNrPrPSOj2"
      },
      "source": [
        "#content based filtering on multiple metrics\n",
        "#content based filtering on factors Title, Cast, Director, Listed in, Plot\n",
        "def get_recomendations_multiple(title, cosine_sim=cosine_sim):\n",
        "    title=title.replace(' ','').lower()\n",
        "    idx = indices[title]\n",
        "    sim_scores = list(enumerate(cosine_sim[idx]))\n",
        "    sim_scores = sorted(sim_scores, key=lambda x: x[1], reverse=True)\n",
        "    sim_scores = sim_scores[1:11]\n",
        "    movie_indices = [i[0] for i in sim_scores]\n",
        "    return df['title'].iloc[movie_indices]"
      ],
      "execution_count": 28,
      "outputs": []
    },
    {
      "cell_type": "code",
      "metadata": {
        "colab": {
          "base_uri": "https://localhost:8080/"
        },
        "id": "8tx4kvbqSQdb",
        "outputId": "521534c5-3ce1-4bf5-ac77-ee355c099565"
      },
      "source": [
        "get_recomendations_multiple('PK', cosine_sim2)"
      ],
      "execution_count": 29,
      "outputs": [
        {
          "output_type": "execute_result",
          "data": {
            "text/plain": [
              "1114                           3 Idiots\n",
              "8391       The Legend of Michael Mishra\n",
              "4790                  Anthony Kaun Hai?\n",
              "6907                             Haapus\n",
              "1022                   Taare Zameen Par\n",
              "4507                              Sanju\n",
              "2720                            Dostana\n",
              "4427                    Chance Pe Dance\n",
              "6439                    Chal Dhar Pakad\n",
              "195     EMI: Liya Hai To Chukana Padega\n",
              "Name: title, dtype: object"
            ]
          },
          "metadata": {},
          "execution_count": 29
        }
      ]
    },
    {
      "cell_type": "code",
      "metadata": {
        "colab": {
          "base_uri": "https://localhost:8080/"
        },
        "id": "pCM4SWUeSSY-",
        "outputId": "5e1a6a27-c240-4fec-aeee-2344c06fe9d7"
      },
      "source": [
        "get_recomendations_multiple('Peaky Blinders', cosine_sim2)"
      ],
      "execution_count": 30,
      "outputs": [
        {
          "output_type": "execute_result",
          "data": {
            "text/plain": [
              "3034                    Giri / Haji\n",
              "5032    The Frankenstein Chronicles\n",
              "8431          The Murder Detectives\n",
              "4951                         Loaded\n",
              "4809                  Kiss Me First\n",
              "6922                   Happy Valley\n",
              "2184                       Get Even\n",
              "519                   I AM A KILLER\n",
              "3789                 Killer Ratings\n",
              "4476          Terrorism Close Calls\n",
              "Name: title, dtype: object"
            ]
          },
          "metadata": {},
          "execution_count": 30
        }
      ]
    },
    {
      "cell_type": "code",
      "metadata": {
        "colab": {
          "base_uri": "https://localhost:8080/"
        },
        "id": "gevyIIesSUg9",
        "outputId": "36e932f1-ee6e-4277-99a9-fd62cbcffff9"
      },
      "source": [
        "get_recomendations_multiple('Giri / Haji', cosine_sim2)"
      ],
      "execution_count": 31,
      "outputs": [
        {
          "output_type": "execute_result",
          "data": {
            "text/plain": [
              "5032                   The Frankenstein Chronicles\n",
              "4809                                 Kiss Me First\n",
              "2184                                      Get Even\n",
              "519                                  I AM A KILLER\n",
              "3789                                Killer Ratings\n",
              "4476                         Terrorism Close Calls\n",
              "4673                      Inside the Criminal Mind\n",
              "7017    How to Live Mortgage Free with Sarah Beeny\n",
              "3452                                Peaky Blinders\n",
              "6971                                    Hinterland\n",
              "Name: title, dtype: object"
            ]
          },
          "metadata": {},
          "execution_count": 31
        }
      ]
    },
    {
      "cell_type": "code",
      "metadata": {
        "colab": {
          "base_uri": "https://localhost:8080/",
          "height": 297
        },
        "id": "WxMZ04wRSXgx",
        "outputId": "b4b35025-cf19-4bad-9322-0759521df1b2"
      },
      "source": [
        "df.describe()"
      ],
      "execution_count": 32,
      "outputs": [
        {
          "output_type": "execute_result",
          "data": {
            "text/html": [
              "<div>\n",
              "<style scoped>\n",
              "    .dataframe tbody tr th:only-of-type {\n",
              "        vertical-align: middle;\n",
              "    }\n",
              "\n",
              "    .dataframe tbody tr th {\n",
              "        vertical-align: top;\n",
              "    }\n",
              "\n",
              "    .dataframe thead th {\n",
              "        text-align: right;\n",
              "    }\n",
              "</style>\n",
              "<table border=\"1\" class=\"dataframe\">\n",
              "  <thead>\n",
              "    <tr style=\"text-align: right;\">\n",
              "      <th></th>\n",
              "      <th>release_year</th>\n",
              "    </tr>\n",
              "  </thead>\n",
              "  <tbody>\n",
              "    <tr>\n",
              "      <th>count</th>\n",
              "      <td>8807.000000</td>\n",
              "    </tr>\n",
              "    <tr>\n",
              "      <th>mean</th>\n",
              "      <td>2014.180198</td>\n",
              "    </tr>\n",
              "    <tr>\n",
              "      <th>std</th>\n",
              "      <td>8.819312</td>\n",
              "    </tr>\n",
              "    <tr>\n",
              "      <th>min</th>\n",
              "      <td>1925.000000</td>\n",
              "    </tr>\n",
              "    <tr>\n",
              "      <th>25%</th>\n",
              "      <td>2013.000000</td>\n",
              "    </tr>\n",
              "    <tr>\n",
              "      <th>50%</th>\n",
              "      <td>2017.000000</td>\n",
              "    </tr>\n",
              "    <tr>\n",
              "      <th>75%</th>\n",
              "      <td>2019.000000</td>\n",
              "    </tr>\n",
              "    <tr>\n",
              "      <th>max</th>\n",
              "      <td>2021.000000</td>\n",
              "    </tr>\n",
              "  </tbody>\n",
              "</table>\n",
              "</div>"
            ],
            "text/plain": [
              "       release_year\n",
              "count   8807.000000\n",
              "mean    2014.180198\n",
              "std        8.819312\n",
              "min     1925.000000\n",
              "25%     2013.000000\n",
              "50%     2017.000000\n",
              "75%     2019.000000\n",
              "max     2021.000000"
            ]
          },
          "metadata": {},
          "execution_count": 32
        }
      ]
    },
    {
      "cell_type": "code",
      "metadata": {
        "colab": {
          "base_uri": "https://localhost:8080/"
        },
        "id": "PhLzmd1CSZh6",
        "outputId": "d0268961-8a50-4b44-9b39-100b001b9bc3"
      },
      "source": [
        "df.info()"
      ],
      "execution_count": 33,
      "outputs": [
        {
          "output_type": "stream",
          "name": "stdout",
          "text": [
            "<class 'pandas.core.frame.DataFrame'>\n",
            "RangeIndex: 8807 entries, 0 to 8806\n",
            "Data columns (total 12 columns):\n",
            " #   Column        Non-Null Count  Dtype \n",
            "---  ------        --------------  ----- \n",
            " 0   show_id       8807 non-null   object\n",
            " 1   type          8807 non-null   object\n",
            " 2   title         8807 non-null   object\n",
            " 3   director      6173 non-null   object\n",
            " 4   cast          7982 non-null   object\n",
            " 5   country       7976 non-null   object\n",
            " 6   date_added    8797 non-null   object\n",
            " 7   release_year  8807 non-null   int64 \n",
            " 8   rating        8803 non-null   object\n",
            " 9   duration      8804 non-null   object\n",
            " 10  listed_in     8807 non-null   object\n",
            " 11  description   8807 non-null   object\n",
            "dtypes: int64(1), object(11)\n",
            "memory usage: 825.8+ KB\n"
          ]
        }
      ]
    },
    {
      "cell_type": "code",
      "metadata": {
        "colab": {
          "base_uri": "https://localhost:8080/"
        },
        "id": "ndakFHmJTiMs",
        "outputId": "ea7fada6-23a8-4517-b213-bce89d64064e"
      },
      "source": [
        "df['cast']"
      ],
      "execution_count": 70,
      "outputs": [
        {
          "output_type": "execute_result",
          "data": {
            "text/plain": [
              "0                                                     NaN\n",
              "1       Ama Qamata, Khosi Ngema, Gail Mabalane, Thaban...\n",
              "2       Sami Bouajila, Tracy Gotoas, Samuel Jouy, Nabi...\n",
              "3                                                     NaN\n",
              "4       Mayur More, Jitendra Kumar, Ranjan Raj, Alam K...\n",
              "                              ...                        \n",
              "8802    Mark Ruffalo, Jake Gyllenhaal, Robert Downey J...\n",
              "8803                                                  NaN\n",
              "8804    Jesse Eisenberg, Woody Harrelson, Emma Stone, ...\n",
              "8805    Tim Allen, Courteney Cox, Chevy Chase, Kate Ma...\n",
              "8806    Vicky Kaushal, Sarah-Jane Dias, Raaghav Chanan...\n",
              "Name: cast, Length: 8807, dtype: object"
            ]
          },
          "metadata": {},
          "execution_count": 70
        }
      ]
    },
    {
      "cell_type": "code",
      "metadata": {
        "id": "J2f2gkoITsht"
      },
      "source": [
        "def get_recomendations_cast(cast, cosine_sim=cosine_sim):\n",
        "    cast=cast.replace(' ','').lower()\n",
        "    \n",
        "    idx1 = indices1[cast]\n",
        "    sim_scores = list(enumerate(cosine_sim[idx1]))\n",
        "    sim_scores = sorted(sim_scores, key=lambda x: x[1], reverse=True)\n",
        "    sim_scores = sim_scores[1:11]\n",
        "    movie_cast = [i[0] for i in sim_scores]\n",
        "    return df['title'].iloc[movie_cast]"
      ],
      "execution_count": 73,
      "outputs": []
    },
    {
      "cell_type": "code",
      "metadata": {
        "colab": {
          "base_uri": "https://localhost:8080/"
        },
        "id": "nF2xYwTNTuYP",
        "outputId": "fc61010b-7ece-4726-b98a-b210c9865eff"
      },
      "source": [
        "get_recomendations_cast('Alan Marriott, Andrew Toth, Brian Dobson, Cole Howard, Jennifer Cameron, Jonathan Holmes, Lee Tockar, Lisa Durupt, Maya Kay, Michael Dobson',cosine_sim2)"
      ],
      "execution_count": 74,
      "outputs": [
        {
          "output_type": "execute_result",
          "data": {
            "text/plain": [
              "7595    norm of the north: keys to the kingdom\n",
              "7594        norm of the north: family vacation\n",
              "1005        keymon and nani in space adventure\n",
              "7317       little singham aur kaal ka mahajaal\n",
              "7319                  little singham in london\n",
              "937               motu patlu in dragon's world\n",
              "938            motu patlu in the game of zones\n",
              "1006                  motu patlu dino invasion\n",
              "2236       little singham: legend of dugabakka\n",
              "3390           little singham: kaal ki tabaahi\n",
              "Name: title, dtype: object"
            ]
          },
          "metadata": {},
          "execution_count": 74
        }
      ]
    },
    {
      "cell_type": "code",
      "metadata": {
        "colab": {
          "base_uri": "https://localhost:8080/"
        },
        "id": "zY2c4COnTwxR",
        "outputId": "e5a52190-8cde-4f1c-cc71-24565814bc6e"
      },
      "source": [
        "get_recomendations_multiple('Norm of the North: King Sized Adventure', cosine_sim2)"
      ],
      "execution_count": 75,
      "outputs": [
        {
          "output_type": "execute_result",
          "data": {
            "text/plain": [
              "7595    norm of the north: keys to the kingdom\n",
              "7594        norm of the north: family vacation\n",
              "1005        keymon and nani in space adventure\n",
              "7317       little singham aur kaal ka mahajaal\n",
              "7319                  little singham in london\n",
              "937               motu patlu in dragon's world\n",
              "938            motu patlu in the game of zones\n",
              "1006                  motu patlu dino invasion\n",
              "2236       little singham: legend of dugabakka\n",
              "3390           little singham: kaal ki tabaahi\n",
              "Name: title, dtype: object"
            ]
          },
          "metadata": {},
          "execution_count": 75
        }
      ]
    },
    {
      "cell_type": "code",
      "metadata": {
        "id": "SjmPYpmjTxug"
      },
      "source": [
        "df_split=df['cast'].str.replace(',',\"\").str.split(' ')"
      ],
      "execution_count": 76,
      "outputs": []
    },
    {
      "cell_type": "code",
      "metadata": {
        "colab": {
          "base_uri": "https://localhost:8080/"
        },
        "id": "_hWQ0ZrqTzm9",
        "outputId": "c3888cdf-01fb-4666-982b-33109a2a7a2f"
      },
      "source": [
        "df['cast']"
      ],
      "execution_count": 77,
      "outputs": [
        {
          "output_type": "execute_result",
          "data": {
            "text/plain": [
              "0                                                     NaN\n",
              "1       Ama Qamata, Khosi Ngema, Gail Mabalane, Thaban...\n",
              "2       Sami Bouajila, Tracy Gotoas, Samuel Jouy, Nabi...\n",
              "3                                                     NaN\n",
              "4       Mayur More, Jitendra Kumar, Ranjan Raj, Alam K...\n",
              "                              ...                        \n",
              "8802    Mark Ruffalo, Jake Gyllenhaal, Robert Downey J...\n",
              "8803                                                  NaN\n",
              "8804    Jesse Eisenberg, Woody Harrelson, Emma Stone, ...\n",
              "8805    Tim Allen, Courteney Cox, Chevy Chase, Kate Ma...\n",
              "8806    Vicky Kaushal, Sarah-Jane Dias, Raaghav Chanan...\n",
              "Name: cast, Length: 8807, dtype: object"
            ]
          },
          "metadata": {},
          "execution_count": 77
        }
      ]
    },
    {
      "cell_type": "code",
      "metadata": {
        "id": "vHWyxeWnT1q-"
      },
      "source": [
        "df['split_cast']=df_split "
      ],
      "execution_count": 78,
      "outputs": []
    },
    {
      "cell_type": "code",
      "metadata": {
        "colab": {
          "base_uri": "https://localhost:8080/",
          "height": 632
        },
        "id": "yOqv6j_xT49W",
        "outputId": "478ec9fa-0ac9-4ad3-dc48-4713b7cbb81d"
      },
      "source": [
        "df.head()"
      ],
      "execution_count": 79,
      "outputs": [
        {
          "output_type": "execute_result",
          "data": {
            "text/html": [
              "<div>\n",
              "<style scoped>\n",
              "    .dataframe tbody tr th:only-of-type {\n",
              "        vertical-align: middle;\n",
              "    }\n",
              "\n",
              "    .dataframe tbody tr th {\n",
              "        vertical-align: top;\n",
              "    }\n",
              "\n",
              "    .dataframe thead th {\n",
              "        text-align: right;\n",
              "    }\n",
              "</style>\n",
              "<table border=\"1\" class=\"dataframe\">\n",
              "  <thead>\n",
              "    <tr style=\"text-align: right;\">\n",
              "      <th></th>\n",
              "      <th>show_id</th>\n",
              "      <th>type</th>\n",
              "      <th>title</th>\n",
              "      <th>director</th>\n",
              "      <th>cast</th>\n",
              "      <th>country</th>\n",
              "      <th>date_added</th>\n",
              "      <th>release_year</th>\n",
              "      <th>rating</th>\n",
              "      <th>duration</th>\n",
              "      <th>listed_in</th>\n",
              "      <th>description</th>\n",
              "      <th>split_cast</th>\n",
              "    </tr>\n",
              "  </thead>\n",
              "  <tbody>\n",
              "    <tr>\n",
              "      <th>0</th>\n",
              "      <td>s1</td>\n",
              "      <td>Movie</td>\n",
              "      <td>dick johnson is dead</td>\n",
              "      <td>Kirsten Johnson</td>\n",
              "      <td>NaN</td>\n",
              "      <td>United States</td>\n",
              "      <td>September 25, 2021</td>\n",
              "      <td>2020</td>\n",
              "      <td>PG-13</td>\n",
              "      <td>90 min</td>\n",
              "      <td>Documentaries</td>\n",
              "      <td>As her father nears the end of his life, filmm...</td>\n",
              "      <td>NaN</td>\n",
              "    </tr>\n",
              "    <tr>\n",
              "      <th>1</th>\n",
              "      <td>s2</td>\n",
              "      <td>TV Show</td>\n",
              "      <td>blood &amp; water</td>\n",
              "      <td>NaN</td>\n",
              "      <td>Ama Qamata, Khosi Ngema, Gail Mabalane, Thaban...</td>\n",
              "      <td>South Africa</td>\n",
              "      <td>September 24, 2021</td>\n",
              "      <td>2021</td>\n",
              "      <td>TV-MA</td>\n",
              "      <td>2 Seasons</td>\n",
              "      <td>International TV Shows, TV Dramas, TV Mysteries</td>\n",
              "      <td>After crossing paths at a party, a Cape Town t...</td>\n",
              "      <td>[Ama, Qamata, Khosi, Ngema, Gail, Mabalane, Th...</td>\n",
              "    </tr>\n",
              "    <tr>\n",
              "      <th>2</th>\n",
              "      <td>s3</td>\n",
              "      <td>TV Show</td>\n",
              "      <td>ganglands</td>\n",
              "      <td>Julien Leclercq</td>\n",
              "      <td>Sami Bouajila, Tracy Gotoas, Samuel Jouy, Nabi...</td>\n",
              "      <td>NaN</td>\n",
              "      <td>September 24, 2021</td>\n",
              "      <td>2021</td>\n",
              "      <td>TV-MA</td>\n",
              "      <td>1 Season</td>\n",
              "      <td>Crime TV Shows, International TV Shows, TV Act...</td>\n",
              "      <td>To protect his family from a powerful drug lor...</td>\n",
              "      <td>[Sami, Bouajila, Tracy, Gotoas, Samuel, Jouy, ...</td>\n",
              "    </tr>\n",
              "    <tr>\n",
              "      <th>3</th>\n",
              "      <td>s4</td>\n",
              "      <td>TV Show</td>\n",
              "      <td>jailbirds new orleans</td>\n",
              "      <td>NaN</td>\n",
              "      <td>NaN</td>\n",
              "      <td>NaN</td>\n",
              "      <td>September 24, 2021</td>\n",
              "      <td>2021</td>\n",
              "      <td>TV-MA</td>\n",
              "      <td>1 Season</td>\n",
              "      <td>Docuseries, Reality TV</td>\n",
              "      <td>Feuds, flirtations and toilet talk go down amo...</td>\n",
              "      <td>NaN</td>\n",
              "    </tr>\n",
              "    <tr>\n",
              "      <th>4</th>\n",
              "      <td>s5</td>\n",
              "      <td>TV Show</td>\n",
              "      <td>kota factory</td>\n",
              "      <td>NaN</td>\n",
              "      <td>Mayur More, Jitendra Kumar, Ranjan Raj, Alam K...</td>\n",
              "      <td>India</td>\n",
              "      <td>September 24, 2021</td>\n",
              "      <td>2021</td>\n",
              "      <td>TV-MA</td>\n",
              "      <td>2 Seasons</td>\n",
              "      <td>International TV Shows, Romantic TV Shows, TV ...</td>\n",
              "      <td>In a city of coaching centers known to train I...</td>\n",
              "      <td>[Mayur, More, Jitendra, Kumar, Ranjan, Raj, Al...</td>\n",
              "    </tr>\n",
              "  </tbody>\n",
              "</table>\n",
              "</div>"
            ],
            "text/plain": [
              "  show_id  ...                                         split_cast\n",
              "0      s1  ...                                                NaN\n",
              "1      s2  ...  [Ama, Qamata, Khosi, Ngema, Gail, Mabalane, Th...\n",
              "2      s3  ...  [Sami, Bouajila, Tracy, Gotoas, Samuel, Jouy, ...\n",
              "3      s4  ...                                                NaN\n",
              "4      s5  ...  [Mayur, More, Jitendra, Kumar, Ranjan, Raj, Al...\n",
              "\n",
              "[5 rows x 13 columns]"
            ]
          },
          "metadata": {},
          "execution_count": 79
        }
      ]
    },
    {
      "cell_type": "code",
      "metadata": {
        "id": "XUKaTcQOUd_D"
      },
      "source": [
        "fillednac=df.fillna('')"
      ],
      "execution_count": 80,
      "outputs": []
    },
    {
      "cell_type": "code",
      "metadata": {
        "colab": {
          "base_uri": "https://localhost:8080/",
          "height": 632
        },
        "id": "4wniHyTuUf-p",
        "outputId": "549987be-d5cd-4db6-fa01-2aa94b25637b"
      },
      "source": [
        "fillednac.head()"
      ],
      "execution_count": 81,
      "outputs": [
        {
          "output_type": "execute_result",
          "data": {
            "text/html": [
              "<div>\n",
              "<style scoped>\n",
              "    .dataframe tbody tr th:only-of-type {\n",
              "        vertical-align: middle;\n",
              "    }\n",
              "\n",
              "    .dataframe tbody tr th {\n",
              "        vertical-align: top;\n",
              "    }\n",
              "\n",
              "    .dataframe thead th {\n",
              "        text-align: right;\n",
              "    }\n",
              "</style>\n",
              "<table border=\"1\" class=\"dataframe\">\n",
              "  <thead>\n",
              "    <tr style=\"text-align: right;\">\n",
              "      <th></th>\n",
              "      <th>show_id</th>\n",
              "      <th>type</th>\n",
              "      <th>title</th>\n",
              "      <th>director</th>\n",
              "      <th>cast</th>\n",
              "      <th>country</th>\n",
              "      <th>date_added</th>\n",
              "      <th>release_year</th>\n",
              "      <th>rating</th>\n",
              "      <th>duration</th>\n",
              "      <th>listed_in</th>\n",
              "      <th>description</th>\n",
              "      <th>split_cast</th>\n",
              "    </tr>\n",
              "  </thead>\n",
              "  <tbody>\n",
              "    <tr>\n",
              "      <th>0</th>\n",
              "      <td>s1</td>\n",
              "      <td>Movie</td>\n",
              "      <td>dick johnson is dead</td>\n",
              "      <td>Kirsten Johnson</td>\n",
              "      <td></td>\n",
              "      <td>United States</td>\n",
              "      <td>September 25, 2021</td>\n",
              "      <td>2020</td>\n",
              "      <td>PG-13</td>\n",
              "      <td>90 min</td>\n",
              "      <td>Documentaries</td>\n",
              "      <td>As her father nears the end of his life, filmm...</td>\n",
              "      <td></td>\n",
              "    </tr>\n",
              "    <tr>\n",
              "      <th>1</th>\n",
              "      <td>s2</td>\n",
              "      <td>TV Show</td>\n",
              "      <td>blood &amp; water</td>\n",
              "      <td></td>\n",
              "      <td>Ama Qamata, Khosi Ngema, Gail Mabalane, Thaban...</td>\n",
              "      <td>South Africa</td>\n",
              "      <td>September 24, 2021</td>\n",
              "      <td>2021</td>\n",
              "      <td>TV-MA</td>\n",
              "      <td>2 Seasons</td>\n",
              "      <td>International TV Shows, TV Dramas, TV Mysteries</td>\n",
              "      <td>After crossing paths at a party, a Cape Town t...</td>\n",
              "      <td>[Ama, Qamata, Khosi, Ngema, Gail, Mabalane, Th...</td>\n",
              "    </tr>\n",
              "    <tr>\n",
              "      <th>2</th>\n",
              "      <td>s3</td>\n",
              "      <td>TV Show</td>\n",
              "      <td>ganglands</td>\n",
              "      <td>Julien Leclercq</td>\n",
              "      <td>Sami Bouajila, Tracy Gotoas, Samuel Jouy, Nabi...</td>\n",
              "      <td></td>\n",
              "      <td>September 24, 2021</td>\n",
              "      <td>2021</td>\n",
              "      <td>TV-MA</td>\n",
              "      <td>1 Season</td>\n",
              "      <td>Crime TV Shows, International TV Shows, TV Act...</td>\n",
              "      <td>To protect his family from a powerful drug lor...</td>\n",
              "      <td>[Sami, Bouajila, Tracy, Gotoas, Samuel, Jouy, ...</td>\n",
              "    </tr>\n",
              "    <tr>\n",
              "      <th>3</th>\n",
              "      <td>s4</td>\n",
              "      <td>TV Show</td>\n",
              "      <td>jailbirds new orleans</td>\n",
              "      <td></td>\n",
              "      <td></td>\n",
              "      <td></td>\n",
              "      <td>September 24, 2021</td>\n",
              "      <td>2021</td>\n",
              "      <td>TV-MA</td>\n",
              "      <td>1 Season</td>\n",
              "      <td>Docuseries, Reality TV</td>\n",
              "      <td>Feuds, flirtations and toilet talk go down amo...</td>\n",
              "      <td></td>\n",
              "    </tr>\n",
              "    <tr>\n",
              "      <th>4</th>\n",
              "      <td>s5</td>\n",
              "      <td>TV Show</td>\n",
              "      <td>kota factory</td>\n",
              "      <td></td>\n",
              "      <td>Mayur More, Jitendra Kumar, Ranjan Raj, Alam K...</td>\n",
              "      <td>India</td>\n",
              "      <td>September 24, 2021</td>\n",
              "      <td>2021</td>\n",
              "      <td>TV-MA</td>\n",
              "      <td>2 Seasons</td>\n",
              "      <td>International TV Shows, Romantic TV Shows, TV ...</td>\n",
              "      <td>In a city of coaching centers known to train I...</td>\n",
              "      <td>[Mayur, More, Jitendra, Kumar, Ranjan, Raj, Al...</td>\n",
              "    </tr>\n",
              "  </tbody>\n",
              "</table>\n",
              "</div>"
            ],
            "text/plain": [
              "  show_id  ...                                         split_cast\n",
              "0      s1  ...                                                   \n",
              "1      s2  ...  [Ama, Qamata, Khosi, Ngema, Gail, Mabalane, Th...\n",
              "2      s3  ...  [Sami, Bouajila, Tracy, Gotoas, Samuel, Jouy, ...\n",
              "3      s4  ...                                                   \n",
              "4      s5  ...  [Mayur, More, Jitendra, Kumar, Ranjan, Raj, Al...\n",
              "\n",
              "[5 rows x 13 columns]"
            ]
          },
          "metadata": {},
          "execution_count": 81
        }
      ]
    },
    {
      "cell_type": "code",
      "metadata": {
        "id": "O0z2eo29Uh6H"
      },
      "source": [
        "def clean_data(x):\n",
        "    return str.lower(x.replace(\" \",\"\"))"
      ],
      "execution_count": 82,
      "outputs": []
    },
    {
      "cell_type": "code",
      "metadata": {
        "id": "B_ymcfaVUjDt"
      },
      "source": [
        "features=['title','director','cast','listed_in','description']\n",
        "fillednac=fillednac[features]"
      ],
      "execution_count": 83,
      "outputs": []
    },
    {
      "cell_type": "code",
      "metadata": {
        "id": "6Ba5bY-OUk4l"
      },
      "source": [
        "def create_soup(x):\n",
        "    return x['title']+ ' ' + x['director']+ ' ' + x['cast']+ ' ' + x['listed_in']+ ' ' + x['description']"
      ],
      "execution_count": 84,
      "outputs": []
    },
    {
      "cell_type": "code",
      "metadata": {
        "id": "dkqw9WJiUnII"
      },
      "source": [
        "fillednac['soup'] = fillednac.apply(create_soup, axis=1)"
      ],
      "execution_count": 85,
      "outputs": []
    },
    {
      "cell_type": "code",
      "metadata": {
        "colab": {
          "base_uri": "https://localhost:8080/"
        },
        "id": "FpqkVB6yUpCS",
        "outputId": "58a50531-3c97-48ba-8ad6-83da4d5a74c0"
      },
      "source": [
        "fillednac['soup']"
      ],
      "execution_count": 86,
      "outputs": [
        {
          "output_type": "execute_result",
          "data": {
            "text/plain": [
              "0       dick johnson is dead Kirsten Johnson  Document...\n",
              "1       blood & water  Ama Qamata, Khosi Ngema, Gail M...\n",
              "2       ganglands Julien Leclercq Sami Bouajila, Tracy...\n",
              "3       jailbirds new orleans   Docuseries, Reality TV...\n",
              "4       kota factory  Mayur More, Jitendra Kumar, Ranj...\n",
              "                              ...                        \n",
              "8802    zodiac David Fincher Mark Ruffalo, Jake Gyllen...\n",
              "8803    zombie dumb   Kids' TV, Korean TV Shows, TV Co...\n",
              "8804    zombieland Ruben Fleischer Jesse Eisenberg, Wo...\n",
              "8805    zoom Peter Hewitt Tim Allen, Courteney Cox, Ch...\n",
              "8806    zubaan Mozez Singh Vicky Kaushal, Sarah-Jane D...\n",
              "Name: soup, Length: 8807, dtype: object"
            ]
          },
          "metadata": {},
          "execution_count": 86
        }
      ]
    },
    {
      "cell_type": "code",
      "metadata": {
        "id": "ISKgTg1uUqt4"
      },
      "source": [
        "from sklearn.feature_extraction.text import CountVectorizer"
      ],
      "execution_count": 87,
      "outputs": []
    },
    {
      "cell_type": "code",
      "metadata": {
        "id": "s7NZFoezUtEf"
      },
      "source": [
        "from sklearn.metrics.pairwise import cosine_similarity"
      ],
      "execution_count": 88,
      "outputs": []
    },
    {
      "cell_type": "code",
      "metadata": {
        "id": "fZ-oJet4Uu54"
      },
      "source": [
        "count_cast = CountVectorizer(stop_words='english')\n",
        "count_matrix_cast = count_cast.fit_transform(fillednac['soup'])\n",
        "cosine_sim_cast = cosine_similarity(count_matrix_cast, count_matrix_cast)"
      ],
      "execution_count": 89,
      "outputs": []
    },
    {
      "cell_type": "code",
      "metadata": {
        "colab": {
          "base_uri": "https://localhost:8080/"
        },
        "id": "Hd0n04i0Uwwu",
        "outputId": "90b8ef17-6312-4201-c98c-25887f63a8a0"
      },
      "source": [
        "count_matrix.shape"
      ],
      "execution_count": 90,
      "outputs": [
        {
          "output_type": "execute_result",
          "data": {
            "text/plain": [
              "(8807, 76189)"
            ]
          },
          "metadata": {},
          "execution_count": 90
        }
      ]
    },
    {
      "cell_type": "code",
      "metadata": {
        "id": "Otqn8WVRUyml"
      },
      "source": [
        "fillednac=fillednac.reset_index()\n",
        "indices_cast = pd.Series(fillednac.index, index=fillednac['cast'])"
      ],
      "execution_count": 91,
      "outputs": []
    },
    {
      "cell_type": "code",
      "metadata": {
        "id": "S-4olPMgU0oZ"
      },
      "source": [
        "def get_recomendations_cast(cast, cosine_sim=cosine_sim):\n",
        "    cast=cast.replace(' ','').lower()\n",
        "    \n",
        "    idx1 = indices1[cast]\n",
        "    sim_scores = list(enumerate(cosine_sim[idx1]))\n",
        "    sim_scores = sorted(sim_scores, key=lambda x: x[1], reverse=True)\n",
        "    sim_scores = sim_scores[1:11]\n",
        "    movie_cast = [i[0] for i in sim_scores]\n",
        "    return df['title'].iloc[movie_cast]"
      ],
      "execution_count": 92,
      "outputs": []
    },
    {
      "cell_type": "code",
      "metadata": {
        "colab": {
          "base_uri": "https://localhost:8080/"
        },
        "id": "TT40--UAU2ks",
        "outputId": "10f21c3c-7f81-4a79-a3e0-eec50a104190"
      },
      "source": [
        "get_recomendations_cast('Alan Marriott, Andrew Toth, Brian Dobson, Cole Howard, Jennifer Cameron, Jonathan Holmes, Lee Tockar, Lisa Durupt, Maya Kay, Michael Dobson',cosine_sim_cast)"
      ],
      "execution_count": 93,
      "outputs": [
        {
          "output_type": "execute_result",
          "data": {
            "text/plain": [
              "7595    norm of the north: keys to the kingdom\n",
              "7594        norm of the north: family vacation\n",
              "3338                                holly star\n",
              "7513                 motu patlu: king of kings\n",
              "3343                                santa girl\n",
              "8461                         the polar express\n",
              "6242        barbie: the princess & the popstar\n",
              "8581                     thor: tales of asgard\n",
              "344                                  my girl 2\n",
              "100                    tobot galaxy detectives\n",
              "Name: title, dtype: object"
            ]
          },
          "metadata": {},
          "execution_count": 93
        }
      ]
    }
  ]
}